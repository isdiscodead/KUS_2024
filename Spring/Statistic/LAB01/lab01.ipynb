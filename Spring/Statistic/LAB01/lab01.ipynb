{
 "cells": [
  {
   "cell_type": "markdown",
   "metadata": {},
   "source": [
    "### 1. Sample Space"
   ]
  },
  {
   "cell_type": "code",
   "execution_count": 5,
   "metadata": {},
   "outputs": [],
   "source": [
    "import pandas as pd"
   ]
  },
  {
   "cell_type": "code",
   "execution_count": 6,
   "metadata": {},
   "outputs": [
    {
     "data": {
      "text/html": [
       "<div>\n",
       "<style scoped>\n",
       "    .dataframe tbody tr th:only-of-type {\n",
       "        vertical-align: middle;\n",
       "    }\n",
       "\n",
       "    .dataframe tbody tr th {\n",
       "        vertical-align: top;\n",
       "    }\n",
       "\n",
       "    .dataframe thead th {\n",
       "        text-align: right;\n",
       "    }\n",
       "</style>\n",
       "<table border=\"1\" class=\"dataframe\">\n",
       "  <thead>\n",
       "    <tr style=\"text-align: right;\">\n",
       "      <th></th>\n",
       "      <th>HHVEHCNT</th>\n",
       "      <th>DRVRCNT</th>\n",
       "      <th>HHSIZE</th>\n",
       "    </tr>\n",
       "  </thead>\n",
       "  <tbody>\n",
       "    <tr>\n",
       "      <th>0</th>\n",
       "      <td>2</td>\n",
       "      <td>2</td>\n",
       "      <td>6</td>\n",
       "    </tr>\n",
       "    <tr>\n",
       "      <th>1</th>\n",
       "      <td>1</td>\n",
       "      <td>1</td>\n",
       "      <td>1</td>\n",
       "    </tr>\n",
       "    <tr>\n",
       "      <th>2</th>\n",
       "      <td>3</td>\n",
       "      <td>4</td>\n",
       "      <td>5</td>\n",
       "    </tr>\n",
       "    <tr>\n",
       "      <th>3</th>\n",
       "      <td>2</td>\n",
       "      <td>2</td>\n",
       "      <td>2</td>\n",
       "    </tr>\n",
       "    <tr>\n",
       "      <th>4</th>\n",
       "      <td>3</td>\n",
       "      <td>3</td>\n",
       "      <td>3</td>\n",
       "    </tr>\n",
       "    <tr>\n",
       "      <th>...</th>\n",
       "      <td>...</td>\n",
       "      <td>...</td>\n",
       "      <td>...</td>\n",
       "    </tr>\n",
       "    <tr>\n",
       "      <th>582</th>\n",
       "      <td>2</td>\n",
       "      <td>2</td>\n",
       "      <td>2</td>\n",
       "    </tr>\n",
       "    <tr>\n",
       "      <th>583</th>\n",
       "      <td>6</td>\n",
       "      <td>2</td>\n",
       "      <td>2</td>\n",
       "    </tr>\n",
       "    <tr>\n",
       "      <th>584</th>\n",
       "      <td>1</td>\n",
       "      <td>2</td>\n",
       "      <td>2</td>\n",
       "    </tr>\n",
       "    <tr>\n",
       "      <th>585</th>\n",
       "      <td>3</td>\n",
       "      <td>2</td>\n",
       "      <td>2</td>\n",
       "    </tr>\n",
       "    <tr>\n",
       "      <th>586</th>\n",
       "      <td>1</td>\n",
       "      <td>1</td>\n",
       "      <td>1</td>\n",
       "    </tr>\n",
       "  </tbody>\n",
       "</table>\n",
       "<p>587 rows × 3 columns</p>\n",
       "</div>"
      ],
      "text/plain": [
       "     HHVEHCNT  DRVRCNT  HHSIZE\n",
       "0           2        2       6\n",
       "1           1        1       1\n",
       "2           3        4       5\n",
       "3           2        2       2\n",
       "4           3        3       3\n",
       "..        ...      ...     ...\n",
       "582         2        2       2\n",
       "583         6        2       2\n",
       "584         1        2       2\n",
       "585         3        2       2\n",
       "586         1        1       1\n",
       "\n",
       "[587 rows x 3 columns]"
      ]
     },
     "execution_count": 6,
     "metadata": {},
     "output_type": "execute_result"
    }
   ],
   "source": [
    "# import data\n",
    "df = pd.read_csv('./SFBAdrivers.csv')\n",
    "df # 차를 몇 대 소유하고 있는지, 운전자가 몇 명인지, 전체 가구원이 몇 명인지에 대한 데이터임  "
   ]
  },
  {
   "cell_type": "code",
   "execution_count": 7,
   "metadata": {},
   "outputs": [
    {
     "data": {
      "text/html": [
       "<div>\n",
       "<style scoped>\n",
       "    .dataframe tbody tr th:only-of-type {\n",
       "        vertical-align: middle;\n",
       "    }\n",
       "\n",
       "    .dataframe tbody tr th {\n",
       "        vertical-align: top;\n",
       "    }\n",
       "\n",
       "    .dataframe thead th {\n",
       "        text-align: right;\n",
       "    }\n",
       "</style>\n",
       "<table border=\"1\" class=\"dataframe\">\n",
       "  <thead>\n",
       "    <tr style=\"text-align: right;\">\n",
       "      <th></th>\n",
       "      <th>HHVEHCNT</th>\n",
       "      <th>DRVRCNT</th>\n",
       "      <th>HHSIZE</th>\n",
       "    </tr>\n",
       "  </thead>\n",
       "  <tbody>\n",
       "    <tr>\n",
       "      <th>0</th>\n",
       "      <td>2</td>\n",
       "      <td>2</td>\n",
       "      <td>6</td>\n",
       "    </tr>\n",
       "    <tr>\n",
       "      <th>1</th>\n",
       "      <td>1</td>\n",
       "      <td>1</td>\n",
       "      <td>1</td>\n",
       "    </tr>\n",
       "    <tr>\n",
       "      <th>2</th>\n",
       "      <td>3</td>\n",
       "      <td>4</td>\n",
       "      <td>5</td>\n",
       "    </tr>\n",
       "    <tr>\n",
       "      <th>3</th>\n",
       "      <td>2</td>\n",
       "      <td>2</td>\n",
       "      <td>2</td>\n",
       "    </tr>\n",
       "    <tr>\n",
       "      <th>4</th>\n",
       "      <td>3</td>\n",
       "      <td>3</td>\n",
       "      <td>3</td>\n",
       "    </tr>\n",
       "  </tbody>\n",
       "</table>\n",
       "</div>"
      ],
      "text/plain": [
       "   HHVEHCNT  DRVRCNT  HHSIZE\n",
       "0         2        2       6\n",
       "1         1        1       1\n",
       "2         3        4       5\n",
       "3         2        2       2\n",
       "4         3        3       3"
      ]
     },
     "execution_count": 7,
     "metadata": {},
     "output_type": "execute_result"
    }
   ],
   "source": [
    "df.head()"
   ]
  },
  {
   "cell_type": "code",
   "execution_count": 8,
   "metadata": {},
   "outputs": [
    {
     "data": {
      "text/plain": [
       "(0, 7)"
      ]
     },
     "execution_count": 8,
     "metadata": {},
     "output_type": "execute_result"
    }
   ],
   "source": [
    "# 해당 표본 공간에는 음수가 존재할 수 없음\n",
    "# a-1. Empirical sample space\n",
    "min(df.HHVEHCNT), max(df.HHVEHCNT)\n",
    "# a-2. Theoretical sample space\n",
    "# HHVEHCNT >= 0"
   ]
  },
  {
   "cell_type": "code",
   "execution_count": 9,
   "metadata": {},
   "outputs": [
    {
     "data": {
      "text/plain": [
       "(0, 5)"
      ]
     },
     "execution_count": 9,
     "metadata": {},
     "output_type": "execute_result"
    }
   ],
   "source": [
    "# b-1. Empirical sample space\n",
    "min(df.DRVRCNT), max(df.DRVRCNT)\n",
    "# b-2. Theoretical sample space\n",
    "# DRVRCNT >= 0, DRVRCNT <= HHSIZE"
   ]
  },
  {
   "cell_type": "code",
   "execution_count": 10,
   "metadata": {},
   "outputs": [
    {
     "data": {
      "text/plain": [
       "(1, 8)"
      ]
     },
     "execution_count": 10,
     "metadata": {},
     "output_type": "execute_result"
    }
   ],
   "source": [
    "# c-1. Empirical sample space\n",
    "min(df.HHSIZE), max(df.HHSIZE)\n",
    "# c-2. Theoretical sample space\n",
    "# HHSIZE >= 1"
   ]
  },
  {
   "cell_type": "markdown",
   "metadata": {},
   "source": [
    "`d.` What  is  the  size  of the total  empirical  sample  space,  considering  all three  variables?  \n",
    "\n",
    "Note \n",
    "that  certain  combinations  of  values  are  logically  impossible.  \n",
    "\n",
    "Big  Sample  space  –  can’t logically have more drivers than household members, but other than that, nothing else is \n",
    "logically impossible. "
   ]
  },
  {
   "cell_type": "markdown",
   "metadata": {},
   "source": [
    "### 2. Events"
   ]
  },
  {
   "cell_type": "code",
   "execution_count": 11,
   "metadata": {},
   "outputs": [
    {
     "name": "stdout",
     "output_type": "stream",
     "text": [
      "count: 222\n",
      "count: 222\n"
     ]
    }
   ],
   "source": [
    "# a. Household size is 2\n",
    "# Event that HHVEHCNT== 2\n",
    "print('count:', sum(df.HHSIZE == 2))\n",
    "print('count:', len(df[df.HHSIZE == 2]))"
   ]
  },
  {
   "cell_type": "code",
   "execution_count": 12,
   "metadata": {},
   "outputs": [
    {
     "name": "stdout",
     "output_type": "stream",
     "text": [
      "count: 178\n"
     ]
    }
   ],
   "source": [
    "# b. Number of drivers in the household is 2 and household size is 2.\n",
    "# Event that (DRVRCNT == 2) & (HHSIZE == 2)\n",
    "print('count:', len(df[(df.HHSIZE == 2) & (df.DRVRCNT == 2)]))"
   ]
  },
  {
   "cell_type": "code",
   "execution_count": 13,
   "metadata": {},
   "outputs": [
    {
     "name": "stdout",
     "output_type": "stream",
     "text": [
      "count: 196\n"
     ]
    }
   ],
   "source": [
    "# c. Number of vehicles in the household is 2 and number of household drivers is 2. \n",
    "# Event that (HHVEHCNT == 2) & (DRVRCNT == 2)\n",
    "print('count:', len(df[(df.HHVEHCNT == 2) & (df.DRVRCNT == 2)]))"
   ]
  },
  {
   "cell_type": "code",
   "execution_count": 14,
   "metadata": {},
   "outputs": [
    {
     "name": "stdout",
     "output_type": "stream",
     "text": [
      "count: 11\n"
     ]
    }
   ],
   "source": [
    "# d. Household size is larger than 5. \n",
    "# Event that HHSIZE > 5\n",
    "print('count:', len(df[(df.HHSIZE > 5)]))"
   ]
  },
  {
   "cell_type": "code",
   "execution_count": 15,
   "metadata": {},
   "outputs": [
    {
     "name": "stdout",
     "output_type": "stream",
     "text": [
      "count: 40\n"
     ]
    }
   ],
   "source": [
    "# e. Household size is less than 3 and number of household vehicles is 3 or more.\n",
    "# Event that (HHSIZE < 3) & (HHVEHCNT >= 3)\n",
    "print('count:', len(df[(df.HHSIZE < 3) & (df.HHVEHCNT >= 3)]))"
   ]
  },
  {
   "cell_type": "code",
   "execution_count": 16,
   "metadata": {},
   "outputs": [
    {
     "name": "stdout",
     "output_type": "stream",
     "text": [
      "count: 38\n"
     ]
    }
   ],
   "source": [
    "# f. Number of household drivers is 0 OR household vehicles is 0. \n",
    "# Event that (DRVRCNT == 3) | (HHVEHCNT == 3)\n",
    "print('count:', len(df[(df.DRVRCNT == 0) | (df.HHVEHCNT == 0)]))"
   ]
  },
  {
   "cell_type": "markdown",
   "metadata": {},
   "source": [
    "### 3. Set Operations"
   ]
  },
  {
   "cell_type": "code",
   "execution_count": 17,
   "metadata": {},
   "outputs": [],
   "source": [
    "# Event A: number of persons per household is 2 or fewer\n",
    "A = df[(df.HHSIZE <= 2)]\n",
    "\n",
    "# Event Ac: number of persons per household is more than 2\n",
    "Ac = df[(df.HHSIZE > 2)]"
   ]
  },
  {
   "cell_type": "code",
   "execution_count": 18,
   "metadata": {},
   "outputs": [],
   "source": [
    "# Event B: household vehicles is 0\n",
    "B = df[(df.HHVEHCNT == 0)]\n",
    "\n",
    "# Event Bc: household vehicles is not 0\n",
    "Bc = df[(df.HHVEHCNT != 0)]"
   ]
  },
  {
   "cell_type": "code",
   "execution_count": 28,
   "metadata": {},
   "outputs": [
    {
     "name": "stdout",
     "output_type": "stream",
     "text": [
      "     HHVEHCNT  DRVRCNT  HHSIZE\n",
      "0           2        2       6\n",
      "2           3        4       5\n",
      "4           3        3       3\n",
      "7           3        2       4\n",
      "8           2        2       3\n",
      "..        ...      ...     ...\n",
      "571         2        2       4\n",
      "574         2        2       4\n",
      "577         3        3       3\n",
      "578         3        3       3\n",
      "581         3        3       4\n",
      "\n",
      "[233 rows x 3 columns]\n",
      "233\n"
     ]
    }
   ],
   "source": [
    "# Find Ac ∩ Bc numerically using Python.\n",
    "# Create  the  vector  of  observation  numbers  which  correspond  to  Ac∩Bc.  \n",
    "# Also,  name this vector p. \n",
    "# Hint: p = df.query(event_Ac + ' & ' + event_Bc).index\n",
    "\n",
    "event_A = 'HHSIZE <= 2'\n",
    "event_Ac = 'HHSIZE > 2'\n",
    "event_B = 'HHVEHCNT == 0'\n",
    "event_Bc = 'HHVEHCNT > 0'\n",
    "\n",
    "# e. Find Ac ∩ Bc numerically using MATLAB\n",
    "p = df.query(event_Ac + ' & ' + event_Bc)\n",
    "print(p)\n",
    "\n",
    "p = p.index\n",
    "print(len(p))"
   ]
  },
  {
   "cell_type": "code",
   "execution_count": 29,
   "metadata": {},
   "outputs": [
    {
     "name": "stdout",
     "output_type": "stream",
     "text": [
      "354\n",
      "Int64Index([  0,   2,   4,   7,   8,   9,  11,  12,  13,  15,\n",
      "            ...\n",
      "            559, 560, 562, 564, 569, 571, 574, 577, 578, 581],\n",
      "           dtype='int64', length=233)\n",
      "Int64Index([  1,   3,   5,   6,  10,  14,  16,  18,  20,  21,\n",
      "            ...\n",
      "            573, 575, 576, 579, 580, 582, 583, 584, 585, 586],\n",
      "           dtype='int64', length=354)\n"
     ]
    }
   ],
   "source": [
    "# f. Find A ∪ B numerically using Python\n",
    "# f.1\n",
    "r = df.query(event_A + ' | ' + event_B).index\n",
    "print(len(r))\n",
    "\n",
    "# f.2 Visually inspect p and r\n",
    "print(p)\n",
    "print(r)\n",
    "# Unique index ... \n",
    "# No common elements because the vectors (events) are mutually explusive of one another"
   ]
  },
  {
   "cell_type": "code",
   "execution_count": 30,
   "metadata": {},
   "outputs": [
    {
     "name": "stdout",
     "output_type": "stream",
     "text": [
      "0\n"
     ]
    }
   ],
   "source": [
    "# f.3 Check f.2 with python loop\n",
    "B = 0\n",
    "for n in range(0, len(r)-1, 1):\n",
    "    for m in range(0, len(p)-1, 1):\n",
    "        if r[n] == p[m]:\n",
    "            B = B+1\n",
    "        else: B = B+0\n",
    "\n",
    "print(B)"
   ]
  },
  {
   "cell_type": "code",
   "execution_count": 31,
   "metadata": {},
   "outputs": [
    {
     "data": {
      "text/plain": [
       "0"
      ]
     },
     "execution_count": 31,
     "metadata": {},
     "output_type": "execute_result"
    }
   ],
   "source": [
    "# g. (A ∪ B)c numerically\n",
    "len(df.HHVEHCNT) - (len(p)+len(r))\n",
    "\n",
    "# from g, p and r include the entire sample space"
   ]
  },
  {
   "cell_type": "markdown",
   "metadata": {},
   "source": [
    "### 4. Probability \n",
    "`Challenge Question (Extra pts.)`\n",
    "\n",
    "Define each of the events in (a) through (f) in  Problem 3 as its corresponding letter. \n",
    "\n",
    "For  example, event 𝑎 is  number  of  persons  in  household  is  2.  \n",
    "\n",
    "Let 𝑃(𝐸) be  the  fraction  of  observations  associated with event E.  "
   ]
  },
  {
   "cell_type": "code",
   "execution_count": 35,
   "metadata": {},
   "outputs": [
    {
     "name": "stdout",
     "output_type": "stream",
     "text": [
      "P(A): 0.5945485519591142 P(B): 0.40545144804088584 P(C): 0.06303236797274275 P(D): 0.9369676320272572\n"
     ]
    }
   ],
   "source": [
    "# From problem 3\n",
    "event_A = 'HHSIZE <= 2'\n",
    "event_B = 'HHSIZE > 2'\n",
    "event_C = 'HHVEHCNT == 0'\n",
    "event_D = 'HHVEHCNT > 0'\n",
    "\n",
    "# a. Write code to evaluate 𝑃(𝑎) , 𝑃(𝑏), 𝑃(𝑐), 𝑃(𝑑)\n",
    "prob_a = len(df.query(event_A)) / len(df)\n",
    "prob_b = len(df.query(event_B)) / len(df)\n",
    "prob_c = len(df.query(event_C)) / len(df)\n",
    "prob_d = len(df.query(event_D)) / len(df)\n",
    "\n",
    "print('P(A):', prob_a, 'P(B):', prob_b, 'P(C):', prob_c, 'P(D):', prob_d)"
   ]
  },
  {
   "cell_type": "code",
   "execution_count": 37,
   "metadata": {},
   "outputs": [
    {
     "name": "stdout",
     "output_type": "stream",
     "text": [
      "[1.0]\n",
      "True\n"
     ]
    }
   ],
   "source": [
    "\n",
    "# b. For each of the pairs of events drawn from a,b,c, and d—a&b, a&c, b&c \n",
    "# —use Python code to demonstrate that:\n",
    "\n",
    "# b.1 𝑃(𝐸1 ∪ 𝐸2) = 𝑃(𝐸1)+𝑃(𝐸2)−𝑃(𝐸1 ∩𝐸2) \n",
    "event_a_in_b = (event_A) + ' & ' + (event_B) \n",
    "prob_a_in_b = len(df.query(event_a_in_b)) / len(df)\n",
    "prob_a_u_b = prob_a + prob_b - prob_a_in_b\n",
    "\n",
    "print([prob_a_u_b])\n",
    "\n",
    "# b.2 𝑃(𝐸1 ∩𝐸2) ≥ 𝑃(𝐸1)+𝑃(𝐸2)−1\n",
    "print(prob_a_in_b >= prob_a + prob_b - 1)"
   ]
  }
 ],
 "metadata": {
  "kernelspec": {
   "display_name": "Python 3",
   "language": "python",
   "name": "python3"
  },
  "language_info": {
   "codemirror_mode": {
    "name": "ipython",
    "version": 3
   },
   "file_extension": ".py",
   "mimetype": "text/x-python",
   "name": "python",
   "nbconvert_exporter": "python",
   "pygments_lexer": "ipython3",
   "version": "3.7.16"
  }
 },
 "nbformat": 4,
 "nbformat_minor": 2
}
