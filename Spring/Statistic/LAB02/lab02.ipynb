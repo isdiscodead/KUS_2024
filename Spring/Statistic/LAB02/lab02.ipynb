{
 "cells": [
  {
   "cell_type": "markdown",
   "metadata": {},
   "source": [
    "## Data Preparation"
   ]
  },
  {
   "cell_type": "code",
   "execution_count": 3,
   "metadata": {},
   "outputs": [],
   "source": [
    "# Download the file containing data for seasonal rainfall data \n",
    "# in SJ City from 1960-61 to 2002-2003 from LMS. (Filename: ‘SJrainfall.dat’). \n",
    "# Load the data into Python with Pandas. \n",
    "# The data contains the number of rainy days in season (column 1) \n",
    "# and cumulative rainfall in inches (column 2)\n",
    "\n",
    "import pandas as pd"
   ]
  },
  {
   "cell_type": "code",
   "execution_count": 9,
   "metadata": {},
   "outputs": [
    {
     "name": "stdout",
     "output_type": "stream",
     "text": [
      "(43, 2)\n"
     ]
    },
    {
     "data": {
      "text/html": [
       "<div>\n",
       "<style scoped>\n",
       "    .dataframe tbody tr th:only-of-type {\n",
       "        vertical-align: middle;\n",
       "    }\n",
       "\n",
       "    .dataframe tbody tr th {\n",
       "        vertical-align: top;\n",
       "    }\n",
       "\n",
       "    .dataframe thead th {\n",
       "        text-align: right;\n",
       "    }\n",
       "</style>\n",
       "<table border=\"1\" class=\"dataframe\">\n",
       "  <thead>\n",
       "    <tr style=\"text-align: right;\">\n",
       "      <th></th>\n",
       "      <th>0</th>\n",
       "      <th>1</th>\n",
       "    </tr>\n",
       "  </thead>\n",
       "  <tbody>\n",
       "    <tr>\n",
       "      <th>0</th>\n",
       "      <td>68</td>\n",
       "      <td>13.87</td>\n",
       "    </tr>\n",
       "    <tr>\n",
       "      <th>1</th>\n",
       "      <td>52</td>\n",
       "      <td>17.65</td>\n",
       "    </tr>\n",
       "    <tr>\n",
       "      <th>2</th>\n",
       "      <td>63</td>\n",
       "      <td>22.15</td>\n",
       "    </tr>\n",
       "    <tr>\n",
       "      <th>3</th>\n",
       "      <td>55</td>\n",
       "      <td>12.32</td>\n",
       "    </tr>\n",
       "    <tr>\n",
       "      <th>4</th>\n",
       "      <td>76</td>\n",
       "      <td>22.29</td>\n",
       "    </tr>\n",
       "  </tbody>\n",
       "</table>\n",
       "</div>"
      ],
      "text/plain": [
       "    0      1\n",
       "0  68  13.87\n",
       "1  52  17.65\n",
       "2  63  22.15\n",
       "3  55  12.32\n",
       "4  76  22.29"
      ]
     },
     "execution_count": 9,
     "metadata": {},
     "output_type": "execute_result"
    }
   ],
   "source": [
    "\n",
    "# load data\n",
    "df = pd.read_csv('./SJrain.dat', header=None)\n",
    "print(df.shape)\n",
    "df.head()"
   ]
  },
  {
   "cell_type": "code",
   "execution_count": 10,
   "metadata": {},
   "outputs": [
    {
     "data": {
      "text/html": [
       "<div>\n",
       "<style scoped>\n",
       "    .dataframe tbody tr th:only-of-type {\n",
       "        vertical-align: middle;\n",
       "    }\n",
       "\n",
       "    .dataframe tbody tr th {\n",
       "        vertical-align: top;\n",
       "    }\n",
       "\n",
       "    .dataframe thead th {\n",
       "        text-align: right;\n",
       "    }\n",
       "</style>\n",
       "<table border=\"1\" class=\"dataframe\">\n",
       "  <thead>\n",
       "    <tr style=\"text-align: right;\">\n",
       "      <th></th>\n",
       "      <th>days</th>\n",
       "      <th>rain</th>\n",
       "    </tr>\n",
       "  </thead>\n",
       "  <tbody>\n",
       "    <tr>\n",
       "      <th>0</th>\n",
       "      <td>68</td>\n",
       "      <td>13.87</td>\n",
       "    </tr>\n",
       "    <tr>\n",
       "      <th>1</th>\n",
       "      <td>52</td>\n",
       "      <td>17.65</td>\n",
       "    </tr>\n",
       "    <tr>\n",
       "      <th>2</th>\n",
       "      <td>63</td>\n",
       "      <td>22.15</td>\n",
       "    </tr>\n",
       "    <tr>\n",
       "      <th>3</th>\n",
       "      <td>55</td>\n",
       "      <td>12.32</td>\n",
       "    </tr>\n",
       "    <tr>\n",
       "      <th>4</th>\n",
       "      <td>76</td>\n",
       "      <td>22.29</td>\n",
       "    </tr>\n",
       "  </tbody>\n",
       "</table>\n",
       "</div>"
      ],
      "text/plain": [
       "   days   rain\n",
       "0    68  13.87\n",
       "1    52  17.65\n",
       "2    63  22.15\n",
       "3    55  12.32\n",
       "4    76  22.29"
      ]
     },
     "execution_count": 10,
     "metadata": {},
     "output_type": "execute_result"
    }
   ],
   "source": [
    "# Generate variables: \n",
    "# ‘days’ for number of rainy days in season \n",
    "# ‘rain’ for cumulative rainfall (inches)\n",
    "\n",
    "# assign headers\n",
    "df.columns = ['days', 'rain']\n",
    "df.head()"
   ]
  },
  {
   "cell_type": "markdown",
   "metadata": {},
   "source": [
    "## Problem 01"
   ]
  },
  {
   "cell_type": "markdown",
   "metadata": {},
   "source": [
    "`E1` = the number of rainy days in SJ in a given `season is > 65 days`\n",
    "\n",
    "`E2` = amount of cumulative rainfall in SJ in a given `season is > 22in`\n",
    "\n",
    "We know that if E1 or E2 happens, i.e. `P(E1 U E2)`, we have had a rainy season."
   ]
  },
  {
   "cell_type": "code",
   "execution_count": 14,
   "metadata": {},
   "outputs": [
    {
     "name": "stdout",
     "output_type": "stream",
     "text": [
      "0.5348837209302325\n",
      "0.4883720930232558\n",
      "0.3953488372093023\n",
      "0.627906976744186\n",
      "0.8095238095238095\n",
      "0.7391304347826088\n"
     ]
    }
   ],
   "source": [
    "# Write a Python code to compute the following probabilities by use of the data. \n",
    "# For each probability, write out in words what it means\n",
    "\n",
    "# P(E1) : the number of rainy days in SJ in given season > 65 days\n",
    "E1_cond = 'days > 65'\n",
    "E1 = df.query(E1_cond).index\n",
    "Prob_E1 = len(E1)/len(df)\n",
    "print(Prob_E1)\n",
    "\n",
    "# P(E2) : amount of cumulative rainfall in SJ in a given season > 22in\n",
    "E2_cond = 'rain > 22'\n",
    "E2 = df.query(E2_cond).index\n",
    "Prob_E2 = len(E2)/len(df)\n",
    "print(Prob_E2)\n",
    "\n",
    "# P(E1⋂E2) : \n",
    "E1_in_E2_cond = E1_cond + ' & ' + E2_cond\n",
    "E1_in_E2 = df.query(E1_in_E2_cond).index\n",
    "Prob_E1_in_E2 = len(E1_in_E2)/len(df)\n",
    "print(Prob_E1_in_E2)\n",
    "\n",
    "# P(E1⋃E2) :\n",
    "E1_u_E2_cond = E1_cond + ' | ' + E2_cond\n",
    "E1_u_E2 = df.query(E1_u_E2_cond).index\n",
    "Prob_E1_u_E2 = len(E1_u_E2)/len(df)\n",
    "print(Prob_E1_u_E2)\n",
    "\n",
    "# P(E1|E2) :\n",
    "Prob_E1_given_E2 = Prob_E1_in_E2/Prob_E2\n",
    "print(Prob_E1_given_E2)\n",
    "\n",
    "# P(E2|E1) :\n",
    "Prob_E2_given_E1 = Prob_E1_in_E2/Prob_E1\n",
    "print(Prob_E2_given_E1)"
   ]
  },
  {
   "cell_type": "code",
   "execution_count": 60,
   "metadata": {},
   "outputs": [
    {
     "name": "stdout",
     "output_type": "stream",
     "text": [
      "False\n",
      "False\n",
      "False\n",
      "Int64Index([4, 6, 8, 12, 13, 17, 21, 22, 23, 25, 32, 34, 37, 38, 39, 41, 42], dtype='int64')\n"
     ]
    }
   ],
   "source": [
    "# Are  E1  and  E2 (approximately)  statistically  independent? \n",
    "print(Prob_E1_given_E2 == Prob_E1)\n",
    "print(Prob_E2_given_E1 == Prob_E2)\n",
    "\n",
    "#  Mutually exclusive?\n",
    "B = 0\n",
    "for n in range(0, len(E1)-1, 1):\n",
    "    for m in range(0, len(E2)-1, 1):\n",
    "        if E1[n] == E2[m]:\n",
    "            B = B+1\n",
    "        else: B = B+0\n",
    "\n",
    "print(B==0) \n",
    "\n",
    "# another answer \n",
    "print(E1_in_E2)"
   ]
  },
  {
   "cell_type": "code",
   "execution_count": 21,
   "metadata": {},
   "outputs": [
    {
     "name": "stdout",
     "output_type": "stream",
     "text": [
      "0.7391304347826088\n",
      "0.7391304347826088\n"
     ]
    }
   ],
   "source": [
    "# Verify Bayes’ rule by showing that 𝑃(𝐸2|𝐸1) = 𝑃(𝐸1|𝐸2)∙𝑃(𝐸2) / 𝑃(𝐸1) .\n",
    "print(Prob_E2_given_E1)\n",
    "print((Prob_E1_given_E2 * Prob_E2) / Prob_E1)"
   ]
  },
  {
   "cell_type": "markdown",
   "metadata": {},
   "source": [
    "## Problem 02 "
   ]
  },
  {
   "cell_type": "markdown",
   "metadata": {},
   "source": [
    "Investigate the proposition that the different seasons represent independent trials with respect to E2.\n",
    "\n",
    "다른 계절이 E2( rain > 22 )와 관련하여 독립적인 시행을 나타낸다는 명제를 조사하라."
   ]
  },
  {
   "cell_type": "code",
   "execution_count": 24,
   "metadata": {},
   "outputs": [],
   "source": [
    "rain_curr = df.rain\n",
    "dummy = pd.Series([0]) # 1칸 밀기 위한 dummy data\n",
    "rain_curr = pd.concat([rain_curr, dummy]).reset_index(drop = True) "
   ]
  },
  {
   "cell_type": "code",
   "execution_count": 25,
   "metadata": {},
   "outputs": [],
   "source": [
    "rain_prior = df.rain\n",
    "rain_prior = pd.concat([dummy, rain_prior]).reset_index(drop = True)"
   ]
  },
  {
   "cell_type": "code",
   "execution_count": 27,
   "metadata": {},
   "outputs": [
    {
     "data": {
      "text/html": [
       "<div>\n",
       "<style scoped>\n",
       "    .dataframe tbody tr th:only-of-type {\n",
       "        vertical-align: middle;\n",
       "    }\n",
       "\n",
       "    .dataframe tbody tr th {\n",
       "        vertical-align: top;\n",
       "    }\n",
       "\n",
       "    .dataframe thead th {\n",
       "        text-align: right;\n",
       "    }\n",
       "</style>\n",
       "<table border=\"1\" class=\"dataframe\">\n",
       "  <thead>\n",
       "    <tr style=\"text-align: right;\">\n",
       "      <th></th>\n",
       "      <th>current</th>\n",
       "      <th>prior</th>\n",
       "    </tr>\n",
       "  </thead>\n",
       "  <tbody>\n",
       "    <tr>\n",
       "      <th>0</th>\n",
       "      <td>13.87</td>\n",
       "      <td>0.00</td>\n",
       "    </tr>\n",
       "    <tr>\n",
       "      <th>1</th>\n",
       "      <td>17.65</td>\n",
       "      <td>13.87</td>\n",
       "    </tr>\n",
       "    <tr>\n",
       "      <th>2</th>\n",
       "      <td>22.15</td>\n",
       "      <td>17.65</td>\n",
       "    </tr>\n",
       "    <tr>\n",
       "      <th>3</th>\n",
       "      <td>12.32</td>\n",
       "      <td>22.15</td>\n",
       "    </tr>\n",
       "    <tr>\n",
       "      <th>4</th>\n",
       "      <td>22.29</td>\n",
       "      <td>12.32</td>\n",
       "    </tr>\n",
       "  </tbody>\n",
       "</table>\n",
       "</div>"
      ],
      "text/plain": [
       "   current  prior\n",
       "0    13.87   0.00\n",
       "1    17.65  13.87\n",
       "2    22.15  17.65\n",
       "3    12.32  22.15\n",
       "4    22.29  12.32"
      ]
     },
     "execution_count": 27,
     "metadata": {},
     "output_type": "execute_result"
    }
   ],
   "source": [
    "rain_both = pd.concat([rain_curr, rain_prior], axis=1)\n",
    "rain_both.columns = ['current', 'prior']\n",
    "rain_both.head()"
   ]
  },
  {
   "cell_type": "code",
   "execution_count": 41,
   "metadata": {},
   "outputs": [
    {
     "data": {
      "text/html": [
       "<div>\n",
       "<style scoped>\n",
       "    .dataframe tbody tr th:only-of-type {\n",
       "        vertical-align: middle;\n",
       "    }\n",
       "\n",
       "    .dataframe tbody tr th {\n",
       "        vertical-align: top;\n",
       "    }\n",
       "\n",
       "    .dataframe thead th {\n",
       "        text-align: right;\n",
       "    }\n",
       "</style>\n",
       "<table border=\"1\" class=\"dataframe\">\n",
       "  <thead>\n",
       "    <tr style=\"text-align: right;\">\n",
       "      <th></th>\n",
       "      <th>current</th>\n",
       "      <th>prior</th>\n",
       "    </tr>\n",
       "  </thead>\n",
       "  <tbody>\n",
       "    <tr>\n",
       "      <th>2</th>\n",
       "      <td>22.15</td>\n",
       "      <td>17.65</td>\n",
       "    </tr>\n",
       "    <tr>\n",
       "      <th>4</th>\n",
       "      <td>22.29</td>\n",
       "      <td>12.32</td>\n",
       "    </tr>\n",
       "    <tr>\n",
       "      <th>6</th>\n",
       "      <td>29.41</td>\n",
       "      <td>16.32</td>\n",
       "    </tr>\n",
       "    <tr>\n",
       "      <th>8</th>\n",
       "      <td>25.09</td>\n",
       "      <td>14.46</td>\n",
       "    </tr>\n",
       "    <tr>\n",
       "      <th>12</th>\n",
       "      <td>34.36</td>\n",
       "      <td>11.06</td>\n",
       "    </tr>\n",
       "  </tbody>\n",
       "</table>\n",
       "</div>"
      ],
      "text/plain": [
       "    current  prior\n",
       "2     22.15  17.65\n",
       "4     22.29  12.32\n",
       "6     29.41  16.32\n",
       "8     25.09  14.46\n",
       "12    34.36  11.06"
      ]
     },
     "execution_count": 41,
     "metadata": {},
     "output_type": "execute_result"
    }
   ],
   "source": [
    "# Let E2-1 be the event E2 for the prior season. \n",
    "# In other words, in the season 2001-2002, E2-1 indicates if seasonal rainfall in 2002-2003 exceeded 22 in.\n",
    "E2_1 = rain_both.query('prior > 22')\n",
    "E2_1.head()"
   ]
  },
  {
   "cell_type": "code",
   "execution_count": 69,
   "metadata": {},
   "outputs": [
    {
     "name": "stdout",
     "output_type": "stream",
     "text": [
      "0.4883720930232558 0.20930232558139536\n"
     ]
    },
    {
     "data": {
      "text/plain": [
       "0.4285714285714286"
      ]
     },
     "execution_count": 69,
     "metadata": {},
     "output_type": "execute_result"
    }
   ],
   "source": [
    "# Estimate  P(E2 | E2-1)  from  the  historical  data  \n",
    "E2_1_in_E2_cond = 'current > 22 & prior > 22' # 9 elements\n",
    "Prob_E2_1_in_E2 = len(rain_both.query(E2_1_in_E2_cond)) / (len(rain_both)-1)\n",
    "Prob_E2 = len(E2_1) / (len(rain_both)-1)\n",
    "print(Prob_E2, Prob_E2_1_in_E2)\n",
    "\n",
    "Prob_E2_given_E2_1 = Prob_E2_1_in_E2 / Prob_E2\n",
    "Prob_E2_given_E2_1 # P(E2)가 0.48로 거의 차이나지 않음 -> 독립 "
   ]
  },
  {
   "cell_type": "code",
   "execution_count": null,
   "metadata": {},
   "outputs": [],
   "source": [
    "# and comment on what the result implies about indepence between a given season and the previous one.\n",
    "# 연도에 관계 없이 계절만이 강수량에 영향을 어느정도 끼친다"
   ]
  },
  {
   "cell_type": "markdown",
   "metadata": {},
   "source": [
    "## Problem 03"
   ]
  },
  {
   "cell_type": "markdown",
   "metadata": {},
   "source": [
    "Investigate  the  proposition  that  the  probability  of  having  a  rainy  season  was  different  in  the  1960s-1970s. "
   ]
  },
  {
   "cell_type": "code",
   "execution_count": 70,
   "metadata": {},
   "outputs": [
    {
     "data": {
      "text/plain": [
       "0.4883720930232558"
      ]
     },
     "execution_count": 70,
     "metadata": {},
     "output_type": "execute_result"
    }
   ],
   "source": [
    "# Let E3 = the event that the season is 1980-81 or before.  \n",
    "# (Note  that  observations  1-21  inclusive  in  your  vector  correspond  to  the  1960-81 set,  \n",
    "# and  observations 22-43 inclusive correspond to the 1981-2003 set.)\n",
    "\n",
    "E3 = df.iloc[0:21] # index location을 통해 접근\n",
    "Prob_E3 = len(E3)/len(df)\n",
    "Prob_E3 # 절반 가량의 obserbation"
   ]
  },
  {
   "cell_type": "code",
   "execution_count": 72,
   "metadata": {},
   "outputs": [
    {
     "name": "stdout",
     "output_type": "stream",
     "text": [
      "0.20930232558139536\n",
      "0.18604651162790697\n",
      "0.4285714285714286 0.5348837209302325\n",
      "0.380952380952381 0.4883720930232558\n"
     ]
    }
   ],
   "source": [
    "# Calculate P(E1|E3) and P(E2|E3) and comment on this finding.\n",
    "E1_in_E3_cond = 'days > 65'\n",
    "E1_in_E3 = E3.query(E1_in_E3_cond).index\n",
    "Prob_E1_in_E3 = len(E1_in_E3)/len(df)\n",
    "print(Prob_E1_in_E3)\n",
    "\n",
    "E2_in_E3_cond = 'rain > 22'\n",
    "E2_in_E3 = E3.query(E2_in_E3_cond).index\n",
    "Prob_E2_in_E3 = len(E2_in_E3)/len(df)\n",
    "print(Prob_E2_in_E3)\n",
    "\n",
    "# Interprete the result\n",
    "print(Prob_E1_in_E3/Prob_E3, Prob_E1)\n",
    "print(Prob_E2_in_E3/Prob_E3, Prob_E2)\n",
    "# 1981년도 이전의 경우 많은 양의 강수 확률이나 강수 확률 자체가 높지 않았음"
   ]
  },
  {
   "cell_type": "code",
   "execution_count": 37,
   "metadata": {},
   "outputs": [
    {
     "name": "stdout",
     "output_type": "stream",
     "text": [
      "0.380952380952381\n",
      "0.39130434782608703\n"
     ]
    }
   ],
   "source": [
    "# Could you also investigate this proposition by calculating P(E3|E2) or P(E3|E1)?  \n",
    "# P(E3|E2), P(E3|E1)\n",
    "Prob_E3_given_E2 = Prob_E2_in_E3/Prob_E2\n",
    "print(Prob_E3_given_E2)\n",
    "\n",
    "Prob_E3_given_E1 = Prob_E1_in_E3/Prob_E1\n",
    "print(Prob_E3_given_E1)\n",
    "\n",
    "# Interprete the result\n",
    "# 1981년도 이전의 경우 많은 양의 강수 확률이나 강수 확률 자체가 높지 않았음"
   ]
  }
 ],
 "metadata": {
  "kernelspec": {
   "display_name": "deep",
   "language": "python",
   "name": "deep"
  },
  "language_info": {
   "codemirror_mode": {
    "name": "ipython",
    "version": 3
   },
   "file_extension": ".py",
   "mimetype": "text/x-python",
   "name": "python",
   "nbconvert_exporter": "python",
   "pygments_lexer": "ipython3",
   "version": "3.7.16"
  }
 },
 "nbformat": 4,
 "nbformat_minor": 2
}
