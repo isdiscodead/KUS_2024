{
 "cells": [
  {
   "cell_type": "code",
   "execution_count": null,
   "metadata": {},
   "outputs": [],
   "source": [
    "# 이론값과 랜덤데이터를 시뮬레이팅한 결과를 비교\n",
    "# 시뮬레이션 모듈 구현 시 일반화할 수 있게 구현할 것!! (콘스탄트를 수정 ... ) 3번;;\n",
    "# 4번은 코드도 다 잇으니 구조 이용해서 확률 계산 어쩌구 ... \n"
   ]
  },
  {
   "cell_type": "markdown",
   "metadata": {},
   "source": [
    "## Problem 01"
   ]
  },
  {
   "cell_type": "code",
   "execution_count": null,
   "metadata": {},
   "outputs": [],
   "source": [
    "# Suppose  there  are  10  cars  waiting  at  an  intersection  in  a  single  line,  \n",
    "# and  4  of  them  are  left turners. \n",
    "# The vehicles are equally likely to be in any order. \n",
    "# Use Python to calculate the probability"
   ]
  },
  {
   "cell_type": "code",
   "execution_count": null,
   "metadata": {},
   "outputs": [],
   "source": []
  }
 ],
 "metadata": {
  "language_info": {
   "name": "python"
  }
 },
 "nbformat": 4,
 "nbformat_minor": 2
}
