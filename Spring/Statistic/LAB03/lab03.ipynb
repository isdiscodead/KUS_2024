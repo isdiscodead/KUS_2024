{
 "cells": [
  {
   "cell_type": "code",
   "execution_count": 5,
   "metadata": {},
   "outputs": [],
   "source": [
    "# 이론값과 랜덤데이터를 시뮬레이팅한 결과를 비교\n",
    "# 시뮬레이션 모듈 구현 시 일반화할 수 있게 구현할 것!! (콘스탄트를 수정 ... ) 3번;;\n",
    "# 4번은 코드도 다 잇으니 구조 이용해서 확률 계산 ..."
   ]
  },
  {
   "cell_type": "code",
   "execution_count": 6,
   "metadata": {},
   "outputs": [],
   "source": [
    "# Read CSV file\n",
    "\n",
    "# pip install biogeme\n",
    "# pip install pandas\n",
    "# pip install numpy\n",
    "# import os\n",
    "from scipy.special import factorial # scipy -> 통계/데이터분석에 유용한 functions 포함된 라이브러리 \n",
    "import numpy as np"
   ]
  },
  {
   "cell_type": "markdown",
   "metadata": {},
   "source": [
    "### Problem 01\n",
    "\n",
    "Suppose  there  are  **10  cars**  waiting  at  an  intersection(교차로)  in  a  single  line,  \n",
    "\n",
    "and  **4  of  them  are  left turners**. ( 4개의 좌회전 차량 -> 6개는 우회전 차량 ) \n",
    "\n",
    "The vehicles are equally likely to be in any order. \n",
    "\n",
    "Use Python to calculate the probability that: "
   ]
  },
  {
   "cell_type": "code",
   "execution_count": 22,
   "metadata": {},
   "outputs": [],
   "source": [
    "# a. The first four vehicles are all left turners. 첫 번째 네 개의 차량이 모두 좌회전 차량\n",
    "denominator = (factorial(10)/(factorial(4)*factorial(6))) # 10개의 차량 중 \n",
    "\n",
    "numerator_a = 1 # 4C4 = 1\n",
    "ans_a = numerator_a/denominator"
   ]
  },
  {
   "cell_type": "code",
   "execution_count": 23,
   "metadata": {},
   "outputs": [],
   "source": [
    "# b. None of the first four vehicles are left turners. 첫 번째 네 개의 차량이 모두 좌회전 차량이 아님\n",
    "numerator_b = (factorial(6)/(factorial(4)*factorial(2))) # 6C4\n",
    "ans_b = numerator_b/denominator"
   ]
  },
  {
   "cell_type": "code",
   "execution_count": 10,
   "metadata": {},
   "outputs": [],
   "source": [
    "# c. No non-left-turning vehicle has more than two left turners in front of it.\n",
    "# 우회전 차량 앞에 2개 초과?의 좌회전 차량 X\n",
    "# from math import comb -> I use Python 3.7.x so used scipy instead\n",
    "from scipy.special import comb\n",
    "\n",
    "numerator_c = comb(8,2) # 8C2\n",
    "ans_c = numerator_c/denominator"
   ]
  },
  {
   "cell_type": "code",
   "execution_count": 11,
   "metadata": {},
   "outputs": [
    {
     "name": "stdout",
     "output_type": "stream",
     "text": [
      "0.004761904761904762 0.07142857142857142 0.13333333333333333\n"
     ]
    }
   ],
   "source": [
    "# result\n",
    "print(ans_a, ans_b, ans_c)"
   ]
  },
  {
   "cell_type": "markdown",
   "metadata": {},
   "source": [
    "### Problem 02\n",
    "Verify your calculations in (1) using a small Python simulation."
   ]
  },
  {
   "cell_type": "code",
   "execution_count": 13,
   "metadata": {},
   "outputs": [
    {
     "data": {
      "text/plain": [
       "array([0.87896007, 0.84521722, 0.29502556, 0.41455242, 0.26097679,\n",
       "       0.45419406, 0.62721589, 0.700294  , 0.61429265, 0.09215683])"
      ]
     },
     "execution_count": 13,
     "metadata": {},
     "output_type": "execute_result"
    }
   ],
   "source": [
    "# a. Create  a  vector of  10  random  numbers.  \n",
    "# Imagine  1  stands  for  the  first  vehicle  in  line  at the intersection, \n",
    "# 2 stands for the 2nd vehicle, etc. \n",
    "# (Hint: Use ‘rand’ function of numpy)\n",
    "\n",
    "veh = np.random.rand(10) # Uniform dist (0~1) \n",
    "veh"
   ]
  },
  {
   "cell_type": "code",
   "execution_count": 14,
   "metadata": {},
   "outputs": [
    {
     "name": "stdout",
     "output_type": "stream",
     "text": [
      "value:  [0.09215683 0.26097679 0.29502556 0.41455242 0.45419406 0.61429265\n",
      " 0.62721589 0.700294   0.84521722 0.87896007]\n",
      "index:  [9 4 2 3 5 8 6 7 1 0]\n",
      "Left turners:  [2 3 4 9]\n"
     ]
    }
   ],
   "source": [
    "# b. Use  b)  to  randomly  choose  which  of  the  10  vehicles  are  left  turners.  \n",
    "# For  example  the left-turners  could  be  the  vehicles  whose  associated  random  numbers  are  the  smallest. \n",
    "# (Hint: Use ‘sort’ function of numpy) \n",
    "\n",
    "value = np.sort(veh)\n",
    "index = np.argsort(veh)\n",
    "print('value: ', value)\n",
    "print('index: ', index)\n",
    "\n",
    "leftTurners = index[0:4] # First four vehicles\n",
    "leftTurners = np.sort(leftTurners)\n",
    "print('Left turners: ', leftTurners)"
   ]
  },
  {
   "cell_type": "code",
   "execution_count": 15,
   "metadata": {},
   "outputs": [
    {
     "name": "stdout",
     "output_type": "stream",
     "text": [
      "False\n",
      "False\n",
      "False\n"
     ]
    }
   ],
   "source": [
    "# c. For this set of left turners, determine whether \n",
    "# each of the events identified in Problem 1 is correct, \n",
    "# record the results in three binary variables, one for each of the three events. \n",
    "\n",
    "# First four vehicles are left turners\n",
    "# print(leftTurners[0] == 1, leftTurners[1] == 2, leftTurners[2] == 3, leftTurners[3] == 4)\n",
    "print(leftTurners[3] == 4)\n",
    "\n",
    "# Non of the first four vehicles are left turners\n",
    "# print(leftTurners<=4)\n",
    "print(sum(leftTurners<=4)==0)\n",
    "\n",
    "# No non-left-turning vehicle has more than two left turners in front of it. \n",
    "print((leftTurners[3] == 9) & (leftTurners[2] == 8)) # remember range of index "
   ]
  },
  {
   "cell_type": "code",
   "execution_count": 25,
   "metadata": {},
   "outputs": [
    {
     "data": {
      "text/plain": [
       "array([[0.0181],\n",
       "       [0.0251],\n",
       "       [0.1391]])"
      ]
     },
     "execution_count": 25,
     "metadata": {},
     "output_type": "execute_result"
    }
   ],
   "source": [
    "# d. Repeat the above steps 10,000 times \n",
    "# and estimate the probabilities for the three events (in Problem 1) from your results. \n",
    "\n",
    "import numpy as np \n",
    "\n",
    "# Function to locate the left turners\n",
    "def locateLeftTurner(n, l):\n",
    "    veh = np.random.rand(n) # Uniform dist (0~1) \n",
    "    value = np.sort(veh)\n",
    "    index = np.argsort(veh)\n",
    "    \n",
    "    leftTurners = index[0:l] # First l vehicles\n",
    "    leftTurners = np.sort(leftTurners)\n",
    "    return(leftTurners)\n",
    "\n",
    "\n",
    "def testABC(leftTurners, n, l):\n",
    "    vtestResult = [(leftTurners[3] == 4), sum(leftTurners<=4)==0, ((leftTurners[3] == 9) & (leftTurners[2] == 8))] \n",
    "    return(vtestResult)\n",
    "\n",
    "\n",
    "# n: total cars, l: left turner count, m: simulate count\n",
    "def simulation(n, l, m): \n",
    "    # make 3 by 1 and 3 by m matrix -> 이론 상 추정한 값과 실제 값 비교를 위한 함수이므로 ... \n",
    "    vProbABC = np.zeros((3,1)) # dummy table 3x1\n",
    "    result = np.zeros((3,m)) # dummy table 3xm\n",
    "\n",
    "    for i in range(m-1):\n",
    "        result[:,i] = testABC(locateLeftTurner(n,l), n, l)\n",
    "\n",
    "    vProbABC[0] = sum(result[0])/m\n",
    "    vProbABC[1] = sum(result[1])/m\n",
    "    vProbABC[2] = sum(result[2])/m\n",
    "    \n",
    "    return(vProbABC)\n",
    "\n",
    "\n",
    "Result = simulation(10, 4, 10000)\n",
    "Result"
   ]
  },
  {
   "cell_type": "markdown",
   "metadata": {},
   "source": [
    "### Problem 03\n",
    "Revise the codes developed in 1 and 2 \n",
    "\n",
    "so that they can handle any  number  n  of  total  vehicles  and  any  number  of  left  turners,  l,  up  to  n.  \n",
    "\n",
    "Save  the  python function as simulation.py. \n",
    "\n",
    "Show solutions for ..."
   ]
  },
  {
   "cell_type": "code",
   "execution_count": null,
   "metadata": {},
   "outputs": [],
   "source": [
    "# functions \n",
    "# Create simulation.py and save it to the same directory. \n",
    "from simulation import *"
   ]
  },
  {
   "cell_type": "code",
   "execution_count": 26,
   "metadata": {},
   "outputs": [
    {
     "name": "stdout",
     "output_type": "stream",
     "text": [
      "[[0.0333]\n",
      " [0.0425]\n",
      " [0.0575]]\n"
     ]
    }
   ],
   "source": [
    "# a. n=15,l=6\n",
    "Result_a = simulation(15, 6, 10000)\n",
    "print(Result_a)"
   ]
  },
  {
   "cell_type": "code",
   "execution_count": 29,
   "metadata": {},
   "outputs": [
    {
     "name": "stdout",
     "output_type": "stream",
     "text": [
      "[[0.0403]\n",
      " [0.0491]\n",
      " [0.0463]]\n"
     ]
    }
   ],
   "source": [
    "# b. n=20,l=8\n",
    "Result_b = simulation(20, 8, 10000)\n",
    "print(Result_b)"
   ]
  },
  {
   "cell_type": "code",
   "execution_count": 28,
   "metadata": {},
   "outputs": [
    {
     "name": "stdout",
     "output_type": "stream",
     "text": [
      "[[0.0544]\n",
      " [0.068 ]\n",
      " [0.0379]]\n"
     ]
    }
   ],
   "source": [
    "# c. n=50,l=20 \n",
    "Result_c = simulation(50, 20, 10000)\n",
    "print(Result_c)"
   ]
  },
  {
   "cell_type": "markdown",
   "metadata": {},
   "source": [
    "### Problem 04\n",
    "Define  the  random  variable  X  to  be  the  largest  number  of  left-turners  in  front  of  any  non-left \n",
    "turner.  \n",
    "\n",
    "They need not be directly in front, just somewhere between the non-left-turner and the \n",
    "front."
   ]
  },
  {
   "cell_type": "code",
   "execution_count": 21,
   "metadata": {},
   "outputs": [
    {
     "name": "stdout",
     "output_type": "stream",
     "text": [
      "비회전 차량 앞쪽에 있는 왼쪽 회전 차량의 최대 개수(X): 3\n"
     ]
    }
   ],
   "source": [
    "# Provide your answer\n",
    "import numpy as np\n",
    "\n",
    "def calculate_X(n, l):\n",
    "    \"\"\"\n",
    "    n: 전체 차량 수\n",
    "    l: 왼쪽으로 회전하는 차량의 수\n",
    "    \"\"\"\n",
    "    # 전체 차량의 인덱스 배열 생성\n",
    "    vehicles = np.arange(n)\n",
    "    # 왼쪽으로 회전하는 차량의 인덱스를 무작위로 선택\n",
    "    left_turners = np.sort(np.random.choice(vehicles, l, replace=False))\n",
    "    \n",
    "    # 최대 왼쪽 회전 차량 수를 저장할 변수 초기화\n",
    "    max_left_turners_in_front = 0\n",
    "    \n",
    "    # 각 비회전 차량에 대하여 앞쪽에 있는 왼쪽 회전 차량의 수 계산\n",
    "    for i in vehicles:\n",
    "        if i not in left_turners:\n",
    "            # 해당 비회전 차량 앞쪽에 있는 왼쪽 회전 차량의 수\n",
    "            num_left_turners_in_front = np.sum(left_turners < i)\n",
    "            # 최대값 업데이트\n",
    "            max_left_turners_in_front = max(max_left_turners_in_front, num_left_turners_in_front)\n",
    "    \n",
    "    return max_left_turners_in_front\n",
    "\n",
    "# 예시 실행\n",
    "n = 10  # 전체 차량 수\n",
    "l = 3   # 왼쪽으로 회전하는 차량의 수\n",
    "X = calculate_X(n, l)\n",
    "print(f\"비회전 차량 앞쪽에 있는 왼쪽 회전 차량의 최대 개수(X): {X}\")"
   ]
  },
  {
   "cell_type": "code",
   "execution_count": 33,
   "metadata": {},
   "outputs": [
    {
     "name": "stdout",
     "output_type": "stream",
     "text": [
      "0.004761904761904762 0.02857142857142857 0.1 0.26666666666666666 0.6\n"
     ]
    }
   ],
   "source": [
    "# new answer\n",
    "denominator = factorial(10)/(factorial(4)*factorial(6))\n",
    "\n",
    "# X=0 -> left turner가 맨 뒤에 4개 고정, 분자 1\n",
    "numerator_0 = 1\n",
    "prob_0 = numerator_0 / denominator\n",
    "\n",
    "# X=1 -> left turner 1명 고르기 6C1\n",
    "numerator_1 = comb(6,1) # factorial(5)/(factorial(6))\n",
    "prob_1 = numerator_1 / denominator\n",
    "\n",
    "# X=2 -> 2명의 lt 7C2\n",
    "numerator_2 = factorial(7)/(factorial(5)*factorial(2))\n",
    "prob_2 = numerator_2 / denominator\n",
    "\n",
    "# X=3 -> 8C3\n",
    "numerator_3 = factorial(8)/(factorial(5)*factorial(3))\n",
    "prob_3 = numerator_3 / denominator\n",
    "\n",
    "# X=4 -> 9C4\n",
    "numerator_4 = factorial(9)/(factorial(5)*factorial(4))\n",
    "prob_4 = numerator_4 / denominator\n",
    "\n",
    "print(prob_0, prob_1, prob_2, prob_3, prob_4)"
   ]
  }
 ],
 "metadata": {
  "kernelspec": {
   "display_name": "deep",
   "language": "python",
   "name": "python3"
  },
  "language_info": {
   "codemirror_mode": {
    "name": "ipython",
    "version": 3
   },
   "file_extension": ".py",
   "mimetype": "text/x-python",
   "name": "python",
   "nbconvert_exporter": "python",
   "pygments_lexer": "ipython3",
   "version": "3.7.16"
  }
 },
 "nbformat": 4,
 "nbformat_minor": 2
}
