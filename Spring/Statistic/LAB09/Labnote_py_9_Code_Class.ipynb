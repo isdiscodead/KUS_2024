{
 "cells": [
  {
   "cell_type": "code",
   "execution_count": 27,
   "id": "6b8efb4c",
   "metadata": {},
   "outputs": [],
   "source": [
    "# import pandas as pd\n",
    "# import matplotlib.pyplot as plt\n",
    "import numpy as np\n",
    "from scipy import stats"
   ]
  },
  {
   "cell_type": "markdown",
   "id": "9c23141d",
   "metadata": {},
   "source": [
    "# Part 1. Confidence interval of unknown parameters of Normal distribution"
   ]
  },
  {
   "cell_type": "code",
   "execution_count": 28,
   "id": "7132079d",
   "metadata": {},
   "outputs": [
    {
     "data": {
      "text/plain": [
       "numpy.ndarray"
      ]
     },
     "execution_count": 28,
     "metadata": {},
     "output_type": "execute_result"
    }
   ],
   "source": [
    "X=np.array([54,79,65,53,65,54,52,62,75])\n",
    "type(X)"
   ]
  },
  {
   "cell_type": "markdown",
   "id": "d493823f",
   "metadata": {},
   "source": [
    "1. CI for mean with unknown mu and known sigma (sigma = 10)"
   ]
  },
  {
   "cell_type": "code",
   "execution_count": 29,
   "id": "d95287b0",
   "metadata": {},
   "outputs": [],
   "source": [
    "Xbar = np.mean(X)\n",
    "n = np.size(X)\n",
    "sigma = 10"
   ]
  },
  {
   "cell_type": "code",
   "execution_count": 30,
   "id": "86ae731f",
   "metadata": {},
   "outputs": [
    {
     "name": "stdout",
     "output_type": "stream",
     "text": [
      "1.959963984540054 55.577897829310935 68.6443243929113\n"
     ]
    }
   ],
   "source": [
    "Z95 = stats.norm.ppf(0.975) # ppf: percent point function (quantile function)\n",
    "X11=Xbar-Z95*sigma/np.sqrt(n)\n",
    "X12=Xbar+Z95*sigma/np.sqrt(n)\n",
    "print(Z95, X11, X12)"
   ]
  },
  {
   "cell_type": "code",
   "execution_count": 31,
   "id": "f79db127",
   "metadata": {},
   "outputs": [
    {
     "name": "stdout",
     "output_type": "stream",
     "text": [
      "2.5758293035489004 53.52501343261478 70.69720878960744\n"
     ]
    }
   ],
   "source": [
    "Z99 = stats.norm.ppf(0.995) # ppf: percent point function (quantile function)\n",
    "X1=Xbar-Z99*sigma/np.sqrt(n)\n",
    "X2=Xbar+Z99*sigma/np.sqrt(n)\n",
    "print(Z99, X1, X2)"
   ]
  },
  {
   "cell_type": "markdown",
   "id": "0b938800",
   "metadata": {},
   "source": [
    "2. CI for mean with unknown mu and unknown sigma "
   ]
  },
  {
   "cell_type": "code",
   "execution_count": 32,
   "id": "9d3d8ce5",
   "metadata": {},
   "outputs": [
    {
     "name": "stdout",
     "output_type": "stream",
     "text": [
      "54.49737318037813 69.7248490418441\n"
     ]
    }
   ],
   "source": [
    "standarderror = np.sqrt(np.var(X,ddof=1))\n",
    "X21 = Xbar - stats.t.ppf(0.975, n-1)*standarderror/np.sqrt(n)\n",
    "X22 = Xbar + stats.t.ppf(0.975, n-1)*standarderror/np.sqrt(n)\n",
    "print(X21, X22)\n",
    "\n",
    "# Q: It is larger or smaller than the 95% CI in problem 1? Why? \n",
    "# 문제 1의 구간보다 작다"
   ]
  },
  {
   "cell_type": "markdown",
   "id": "50a7e790",
   "metadata": {},
   "source": [
    "3. CI for variance of Normal distribution with unknown mu and sigma"
   ]
  },
  {
   "cell_type": "code",
   "execution_count": 41,
   "id": "371a8d24",
   "metadata": {},
   "outputs": [
    {
     "name": "stdout",
     "output_type": "stream",
     "text": [
      "44.76242969993162 360.0852490052587\n"
     ]
    }
   ],
   "source": [
    "# Q: Provide your code\n",
    "alpha = 0.05  # 95% 신뢰 구간\n",
    "\n",
    "chi2_lower = stats.chi2.ppf(alpha/2, n-1)\n",
    "chi2_upper = stats.chi2.ppf(1-alpha/2, n-1)\n",
    "\n",
    "X31 = (n-1)*np.var(X,ddof=1)/chi2_upper\n",
    "X32 = (n-1)*np.var(X,ddof=1)/chi2_lower\n",
    "print(X31, X32)"
   ]
  },
  {
   "cell_type": "markdown",
   "id": "964ae405",
   "metadata": {},
   "source": [
    "# Part 2. Simulation of Confidence interval of unknown parameters of Normal distribution"
   ]
  },
  {
   "cell_type": "code",
   "execution_count": 34,
   "id": "98a1e4df",
   "metadata": {},
   "outputs": [],
   "source": [
    "mu = 65\n",
    "sigma = 10\n",
    "S = np.random.normal(mu, sigma, size=(9, 1000))\n",
    "Sbar = np.mean(S, axis=0)\n",
    "sSquare = np.var(S, ddof=1, axis=0)"
   ]
  },
  {
   "cell_type": "markdown",
   "id": "bcbe3def",
   "metadata": {},
   "source": [
    "1. Simulation of CI of mean from Normal with unknown mu and known sigma (sigma=10)"
   ]
  },
  {
   "cell_type": "code",
   "execution_count": 35,
   "id": "ee1b6cb8",
   "metadata": {},
   "outputs": [],
   "source": [
    "sigma = 10; n = 9\n",
    "S11 = Sbar - Z95*sigma/np.sqrt(n)\n",
    "S12 = Sbar + Z95*sigma/np.sqrt(n)"
   ]
  },
  {
   "cell_type": "code",
   "execution_count": 36,
   "id": "590ba340",
   "metadata": {},
   "outputs": [
    {
     "data": {
      "text/plain": [
       "964"
      ]
     },
     "execution_count": 36,
     "metadata": {},
     "output_type": "execute_result"
    }
   ],
   "source": [
    "Count = sum((S11<65) & (S12>65)); Count"
   ]
  },
  {
   "cell_type": "markdown",
   "id": "51cd0c1e",
   "metadata": {},
   "source": [
    "2. Simulation of CI of mean from Normal with unknwon mu and unknown sigma"
   ]
  },
  {
   "cell_type": "code",
   "execution_count": 37,
   "id": "ba5e2f7c",
   "metadata": {},
   "outputs": [],
   "source": [
    "# Q: Provide your code\n",
    "from scipy.stats import t\n",
    "t95 = t.ppf(0.975, df=n-1)\n",
    "\n",
    "S21 = Sbar - t95 * np.sqrt(sSquare / n)\n",
    "S22 = Sbar + t95 * np.sqrt(sSquare / n)"
   ]
  },
  {
   "cell_type": "code",
   "execution_count": null,
   "id": "429e76bf",
   "metadata": {},
   "outputs": [
    {
     "data": {
      "text/plain": [
       "958"
      ]
     },
     "execution_count": 14,
     "metadata": {},
     "output_type": "execute_result"
    }
   ],
   "source": [
    "Count2 = sum((S21 < 65) & (S22 > 65))\n",
    "Count2"
   ]
  },
  {
   "cell_type": "markdown",
   "id": "e910aa21",
   "metadata": {},
   "source": [
    "3. Simulation of CI of variance from Normal with unknown mu and unknown sigma"
   ]
  },
  {
   "cell_type": "code",
   "execution_count": 38,
   "id": "4df6b51f",
   "metadata": {},
   "outputs": [],
   "source": [
    "S31 = Sbar - t95 * np.sqrt(np.var(S, ddof=1, axis=0) / n)\n",
    "S32 = Sbar + t95 * np.sqrt(np.var(S, ddof=1, axis=0) / n)"
   ]
  },
  {
   "cell_type": "code",
   "execution_count": 39,
   "id": "25075c55",
   "metadata": {},
   "outputs": [
    {
     "data": {
      "text/plain": [
       "958"
      ]
     },
     "execution_count": 39,
     "metadata": {},
     "output_type": "execute_result"
    }
   ],
   "source": [
    "# What is the proportion of 1000 sample sets that contains 100 of sigma square?\n",
    "Count3 = sum((S31 < 65) & (S32 > 65))\n",
    "Count3"
   ]
  },
  {
   "cell_type": "code",
   "execution_count": null,
   "id": "da6372aa",
   "metadata": {},
   "outputs": [],
   "source": []
  }
 ],
 "metadata": {
  "kernelspec": {
   "display_name": "deep",
   "language": "python",
   "name": "deep"
  },
  "language_info": {
   "codemirror_mode": {
    "name": "ipython",
    "version": 3
   },
   "file_extension": ".py",
   "mimetype": "text/x-python",
   "name": "python",
   "nbconvert_exporter": "python",
   "pygments_lexer": "ipython3",
   "version": "3.7.16"
  }
 },
 "nbformat": 4,
 "nbformat_minor": 5
}
