{
 "cells": [
  {
   "cell_type": "code",
   "execution_count": 2,
   "id": "26e62884",
   "metadata": {},
   "outputs": [],
   "source": [
    "import os\n",
    "os.environ['KMP_DUPLICATE_LIB_OK']='True'"
   ]
  },
  {
   "cell_type": "code",
   "execution_count": 3,
   "id": "7891e23b",
   "metadata": {},
   "outputs": [
    {
     "name": "stderr",
     "output_type": "stream",
     "text": [
      "2024-03-21 00:25:33.800720: I tensorflow/core/platform/cpu_feature_guard.cc:193] This TensorFlow binary is optimized with oneAPI Deep Neural Network Library (oneDNN) to use the following CPU instructions in performance-critical operations:  SSE4.1 SSE4.2\n",
      "To enable them in other operations, rebuild TensorFlow with the appropriate compiler flags.\n"
     ]
    }
   ],
   "source": [
    "import tensorflow as tf\n",
    "import sklearn"
   ]
  },
  {
   "cell_type": "code",
   "execution_count": 4,
   "id": "731c4285",
   "metadata": {},
   "outputs": [
    {
     "name": "stdout",
     "output_type": "stream",
     "text": [
      "2.10.0\n",
      "1.0.2\n"
     ]
    }
   ],
   "source": [
    "print(tf.__version__)\n",
    "print(sklearn.__version__)"
   ]
  },
  {
   "cell_type": "markdown",
   "id": "9738828c",
   "metadata": {},
   "source": [
    "## Python Basic"
   ]
  },
  {
   "cell_type": "code",
   "execution_count": 5,
   "id": "a3b4e87f",
   "metadata": {},
   "outputs": [
    {
     "data": {
      "text/plain": [
       "1256.0"
      ]
     },
     "execution_count": 5,
     "metadata": {},
     "output_type": "execute_result"
    }
   ],
   "source": [
    "# variable\n",
    "r = 20\n",
    "PI = 3.14\n",
    "area = PI * r**2\n",
    "area"
   ]
  },
  {
   "cell_type": "code",
   "execution_count": 6,
   "id": "819d6aca",
   "metadata": {},
   "outputs": [
    {
     "name": "stdout",
     "output_type": "stream",
     "text": [
      "[10, 20, 30, 40, 50]\n",
      "30\n",
      "5\n"
     ]
    }
   ],
   "source": [
    "# list\n",
    "lst = [10, 20, 30, 40, 50]\n",
    "print(lst)\n",
    "print(lst[2])\n",
    "print(len(lst))"
   ]
  },
  {
   "cell_type": "code",
   "execution_count": 7,
   "id": "91f4f43e",
   "metadata": {},
   "outputs": [
    {
     "name": "stdout",
     "output_type": "stream",
     "text": [
      "[10, 20, 30]\n",
      "[30, 40, 50]\n",
      "[10, 20, 30, 40]\n"
     ]
    }
   ],
   "source": [
    "# list slicing\n",
    "print(lst[0:3]) # 0 ~ 2\n",
    "print(lst[2:]) # 2 ~ end\n",
    "print(lst[:-1]) # 0 ~ end-1"
   ]
  },
  {
   "cell_type": "code",
   "execution_count": 8,
   "id": "40b8ce49",
   "metadata": {},
   "outputs": [
    {
     "name": "stdout",
     "output_type": "stream",
     "text": [
      "200\n",
      "{'HP': 200, 'make': 'BNW', 'color': 'white'}\n"
     ]
    }
   ],
   "source": [
    "# Dictionary\n",
    "car = {'HP' : 200, 'make' : \"BNW\"}\n",
    "print(car['HP'])\n",
    "car['color'] = \"white\"\n",
    "print(car)"
   ]
  },
  {
   "cell_type": "code",
   "execution_count": 9,
   "id": "0dfc528c",
   "metadata": {},
   "outputs": [
    {
     "name": "stdout",
     "output_type": "stream",
     "text": [
      "below zero\n"
     ]
    }
   ],
   "source": [
    "# if-else\n",
    "temp = -10\n",
    "if temp < 0:\n",
    "    print('below zero')\n",
    "else:\n",
    "    print('above zero')"
   ]
  },
  {
   "cell_type": "code",
   "execution_count": 10,
   "id": "17092ebc",
   "metadata": {},
   "outputs": [
    {
     "name": "stdout",
     "output_type": "stream",
     "text": [
      "1 2 3 4 5 "
     ]
    }
   ],
   "source": [
    "# for loop\n",
    "for i in [1, 2, 3, 4,5]:\n",
    "    print(i, end=' ')"
   ]
  },
  {
   "cell_type": "code",
   "execution_count": 11,
   "id": "a091af1f",
   "metadata": {},
   "outputs": [
    {
     "name": "stdout",
     "output_type": "stream",
     "text": [
      "Hello, Kim\n"
     ]
    }
   ],
   "source": [
    "# function\n",
    "def sayHello(name):\n",
    "    print('Hello, ' + name)\n",
    "\n",
    "sayHello(\"Kim\")"
   ]
  },
  {
   "cell_type": "code",
   "execution_count": 12,
   "id": "7667c640",
   "metadata": {},
   "outputs": [
    {
     "name": "stdout",
     "output_type": "stream",
     "text": [
      "Hello, 나의 이름은 John\n"
     ]
    }
   ],
   "source": [
    "# class\n",
    "class Person:\n",
    "    def __init__(self, name, age):\n",
    "        self.name = name\n",
    "        self.age = age\n",
    "    \n",
    "    def sayHello(self):\n",
    "        print(\"Hello, 나의 이름은\", self.name)\n",
    "\n",
    "p1 = Person(\"John\", 36)\n",
    "p1.sayHello()"
   ]
  },
  {
   "cell_type": "markdown",
   "id": "4b91600e",
   "metadata": {},
   "source": [
    "## Numpy"
   ]
  },
  {
   "cell_type": "code",
   "execution_count": 13,
   "id": "89fe6f46",
   "metadata": {},
   "outputs": [],
   "source": [
    "import numpy as np"
   ]
  },
  {
   "cell_type": "code",
   "execution_count": 14,
   "id": "46c7f7b2",
   "metadata": {},
   "outputs": [
    {
     "data": {
      "text/plain": [
       "array([1, 2, 3])"
      ]
     },
     "execution_count": 14,
     "metadata": {},
     "output_type": "execute_result"
    }
   ],
   "source": [
    "# 1d array\n",
    "a = np.array([1,2,3])\n",
    "a"
   ]
  },
  {
   "cell_type": "code",
   "execution_count": 15,
   "id": "48639b80",
   "metadata": {},
   "outputs": [
    {
     "data": {
      "text/plain": [
       "1"
      ]
     },
     "execution_count": 15,
     "metadata": {},
     "output_type": "execute_result"
    }
   ],
   "source": [
    "a[0]"
   ]
  },
  {
   "cell_type": "code",
   "execution_count": 16,
   "id": "c182e4d9",
   "metadata": {},
   "outputs": [
    {
     "data": {
      "text/plain": [
       "array([[1, 2, 3],\n",
       "       [4, 5, 6],\n",
       "       [7, 8, 9]])"
      ]
     },
     "execution_count": 16,
     "metadata": {},
     "output_type": "execute_result"
    }
   ],
   "source": [
    "# 2d array\n",
    "b = np.array([[1, 2, 3], [4, 5, 6], [7, 8, 9]])\n",
    "b"
   ]
  },
  {
   "cell_type": "code",
   "execution_count": 20,
   "id": "224a47fd",
   "metadata": {},
   "outputs": [
    {
     "data": {
      "text/plain": [
       "3"
      ]
     },
     "execution_count": 20,
     "metadata": {},
     "output_type": "execute_result"
    }
   ],
   "source": [
    "b[0][2]"
   ]
  },
  {
   "cell_type": "code",
   "execution_count": 21,
   "id": "182dcc46",
   "metadata": {},
   "outputs": [
    {
     "name": "stdout",
     "output_type": "stream",
     "text": [
      "(3, 3)\n",
      "2\n",
      "int64\n",
      "9\n"
     ]
    }
   ],
   "source": [
    "a = np.array([[0, 1, 2], [3, 4, 5], [6, 7, 8]])\n",
    "print(a.shape) # 배열의 형상\n",
    "print(a.ndim) # 배열의 차원 개수\n",
    "print(a.dtype) # 요소의 자료형\n",
    "print(a.size) # 전체 요소의 개수"
   ]
  },
  {
   "cell_type": "code",
   "execution_count": 23,
   "id": "441c46f3",
   "metadata": {},
   "outputs": [
    {
     "name": "stdout",
     "output_type": "stream",
     "text": [
      "[[0. 0. 0. 0.]\n",
      " [0. 0. 0. 0.]\n",
      " [0. 0. 0. 0.]]\n",
      "[[1. 1. 1. 1.]\n",
      " [1. 1. 1. 1.]\n",
      " [1. 1. 1. 1.]]\n",
      "[[1. 0. 0.]\n",
      " [0. 1. 0.]\n",
      " [0. 0. 1.]]\n"
     ]
    }
   ],
   "source": [
    "# create numpy array\n",
    "\n",
    "# 0으로 채우기\n",
    "a = np.zeros((3, 4)) # 3x4\n",
    "print(a)\n",
    "\n",
    "# 1로 채우기\n",
    "print(np.ones(a.shape)) # 동일한 shape\n",
    "\n",
    "# 대각 행렬\n",
    "print(np.eye(3))"
   ]
  },
  {
   "cell_type": "code",
   "execution_count": 26,
   "id": "56838ba4",
   "metadata": {},
   "outputs": [
    {
     "name": "stdout",
     "output_type": "stream",
     "text": [
      "[0 1 2 3 4]\n",
      "[1 2 3 4 5]\n",
      "[1 3 5 7 9]\n"
     ]
    }
   ],
   "source": [
    "# arange function \n",
    "print(np.arange(5)) # 0 ~ 4짜리 1d array\n",
    "\n",
    "# 시작 값 지정하기\n",
    "print(np.arange(1, 6)) # 1 ~ 5\n",
    "\n",
    "# 증가되는 간격 지정하기\n",
    "print(np.arange(1, 10, 2)) # 1부터 10까지 2씩 증가 \n"
   ]
  },
  {
   "cell_type": "code",
   "execution_count": 27,
   "id": "50e3fd6e",
   "metadata": {},
   "outputs": [
    {
     "data": {
      "text/plain": [
       "array([ 0.        ,  0.1010101 ,  0.2020202 ,  0.3030303 ,  0.4040404 ,\n",
       "        0.50505051,  0.60606061,  0.70707071,  0.80808081,  0.90909091,\n",
       "        1.01010101,  1.11111111,  1.21212121,  1.31313131,  1.41414141,\n",
       "        1.51515152,  1.61616162,  1.71717172,  1.81818182,  1.91919192,\n",
       "        2.02020202,  2.12121212,  2.22222222,  2.32323232,  2.42424242,\n",
       "        2.52525253,  2.62626263,  2.72727273,  2.82828283,  2.92929293,\n",
       "        3.03030303,  3.13131313,  3.23232323,  3.33333333,  3.43434343,\n",
       "        3.53535354,  3.63636364,  3.73737374,  3.83838384,  3.93939394,\n",
       "        4.04040404,  4.14141414,  4.24242424,  4.34343434,  4.44444444,\n",
       "        4.54545455,  4.64646465,  4.74747475,  4.84848485,  4.94949495,\n",
       "        5.05050505,  5.15151515,  5.25252525,  5.35353535,  5.45454545,\n",
       "        5.55555556,  5.65656566,  5.75757576,  5.85858586,  5.95959596,\n",
       "        6.06060606,  6.16161616,  6.26262626,  6.36363636,  6.46464646,\n",
       "        6.56565657,  6.66666667,  6.76767677,  6.86868687,  6.96969697,\n",
       "        7.07070707,  7.17171717,  7.27272727,  7.37373737,  7.47474747,\n",
       "        7.57575758,  7.67676768,  7.77777778,  7.87878788,  7.97979798,\n",
       "        8.08080808,  8.18181818,  8.28282828,  8.38383838,  8.48484848,\n",
       "        8.58585859,  8.68686869,  8.78787879,  8.88888889,  8.98989899,\n",
       "        9.09090909,  9.19191919,  9.29292929,  9.39393939,  9.49494949,\n",
       "        9.5959596 ,  9.6969697 ,  9.7979798 ,  9.8989899 , 10.        ])"
      ]
     },
     "execution_count": 27,
     "metadata": {},
     "output_type": "execute_result"
    }
   ],
   "source": [
    "# linspace() 함수\n",
    "np.linspace(0, 10, 100)\n",
    "\n",
    "# why numbers not clean?\n"
   ]
  },
  {
   "cell_type": "code",
   "execution_count": 30,
   "id": "a09c1e5d",
   "metadata": {},
   "outputs": [
    {
     "name": "stdout",
     "output_type": "stream",
     "text": [
      "[[1 2 5 6]\n",
      " [3 4 7 8]]\n",
      "[[1 2]\n",
      " [3 4]\n",
      " [5 6]\n",
      " [7 8]]\n"
     ]
    }
   ],
   "source": [
    "x = np.array([[1, 2], [3, 4]])\n",
    "y = np.array([[5, 6], [7, 8]])\n",
    "\n",
    "print(np.concatenate((x, y), axis=1)) # horizontally stack\n",
    "\n",
    "# concat으로 vstack처럼 쌓으려면\n",
    "print(np.concatenate((x, y), axis=0)) # verticaly stack"
   ]
  },
  {
   "cell_type": "code",
   "execution_count": 29,
   "id": "8dfcebf7",
   "metadata": {},
   "outputs": [
    {
     "data": {
      "text/plain": [
       "array([[1, 2],\n",
       "       [3, 4],\n",
       "       [5, 6],\n",
       "       [7, 8]])"
      ]
     },
     "execution_count": 29,
     "metadata": {},
     "output_type": "execute_result"
    }
   ],
   "source": [
    "np.vstack((x, y)) # verticaly stack "
   ]
  },
  {
   "cell_type": "code",
   "execution_count": 36,
   "id": "0e854c44",
   "metadata": {},
   "outputs": [
    {
     "name": "stdout",
     "output_type": "stream",
     "text": [
      "[[ 0  1  2  3]\n",
      " [ 4  5  6  7]\n",
      " [ 8  9 10 11]]\n",
      "[[ 0  1]\n",
      " [ 2  3]\n",
      " [ 4  5]\n",
      " [ 6  7]\n",
      " [ 8  9]\n",
      " [10 11]]\n"
     ]
    }
   ],
   "source": [
    "# reshape function\n",
    "a = np.arange(12)\n",
    "print(a.reshape(3, 4))\n",
    "print(a.reshape(6, -1)) # -1이란 dimension 알아서 찾아내라는 뜻"
   ]
  },
  {
   "cell_type": "code",
   "execution_count": 41,
   "id": "c4ec70d5",
   "metadata": {},
   "outputs": [
    {
     "name": "stdout",
     "output_type": "stream",
     "text": [
      "[[ 0  1  2  3  4  5  6  7  8  9]\n",
      " [10 11 12 13 14 15 16 17 18 19]\n",
      " [20 21 22 23 24 25 26 27 28 29]]\n",
      "\n",
      "[[ 0  1  2]\n",
      " [10 11 12]\n",
      " [20 21 22]]\n",
      "\n",
      "[[ 3  4  5  6  7  8  9]\n",
      " [13 14 15 16 17 18 19]\n",
      " [23 24 25 26 27 28 29]]\n"
     ]
    }
   ],
   "source": [
    "# split array\n",
    "array = np.arange(30).reshape(-1, 10)\n",
    "print(array, end='\\n\\n')\n",
    "\n",
    "arr1, arr2 = np.split(array, [3], axis=1)\n",
    "print(arr1, arr2, sep='\\n\\n')"
   ]
  },
  {
   "cell_type": "code",
   "execution_count": 44,
   "id": "9a065ae8",
   "metadata": {},
   "outputs": [
    {
     "name": "stdout",
     "output_type": "stream",
     "text": [
      "(6,)\n",
      "(1, 6)\n",
      "(6, 1)\n"
     ]
    }
   ],
   "source": [
    "# adding extra axis\n",
    "a = np.array([1, 2, 3, 4, 5, 6])\n",
    "print(a.shape)\n",
    "\n",
    "a1 = a[np.newaxis, :]\n",
    "print(a1.shape)\n",
    "\n",
    "a2 = a[:, np.newaxis]\n",
    "print(a2.shape)"
   ]
  },
  {
   "cell_type": "code",
   "execution_count": 45,
   "id": "877b6511",
   "metadata": {},
   "outputs": [
    {
     "name": "stdout",
     "output_type": "stream",
     "text": [
      "[19 25]\n",
      "[18 19]\n",
      "[False False  True  True  True]\n",
      "[25 30 28]\n"
     ]
    }
   ],
   "source": [
    "# indexing 1d array\n",
    "ages = np.array([18, 19, 25, 30, 28])\n",
    "print(ages[1:3]) # index 1 to 2\n",
    "print(ages[:2]) # index 0 to 1\n",
    "\n",
    "# logical indexing\n",
    "y = ages > 20\n",
    "print(y)\n",
    "print(ages[y])"
   ]
  },
  {
   "cell_type": "code",
   "execution_count": 46,
   "id": "2959d529",
   "metadata": {},
   "outputs": [
    {
     "name": "stdout",
     "output_type": "stream",
     "text": [
      "[[1 2 3]\n",
      " [4 5 6]\n",
      " [7 8 9]]\n",
      "3\n",
      "[[12  2  3]\n",
      " [ 4  5  6]\n",
      " [ 7  8  9]]\n"
     ]
    }
   ],
   "source": [
    "# indexing 2d array\n",
    "a = np.array([[1, 2, 3], [4, 5, 6], [7, 8, 9]])\n",
    "print(a)\n",
    "print(a[0, 2])\n",
    "\n",
    "a[0, 0] = 12\n",
    "print(a)"
   ]
  },
  {
   "cell_type": "code",
   "execution_count": 47,
   "id": "e83f70ad",
   "metadata": {},
   "outputs": [
    {
     "name": "stdout",
     "output_type": "stream",
     "text": [
      "[[2 3]\n",
      " [5 6]]\n"
     ]
    }
   ],
   "source": [
    "# slicing array using index\n",
    "a = np.array([[1, 2, 3], [4, 5, 6], [7, 8, 9]])\n",
    "print(a[0:2, 1:3])"
   ]
  },
  {
   "cell_type": "markdown",
   "id": "6a84e1f6",
   "metadata": {},
   "source": [
    "#### Array Operations"
   ]
  },
  {
   "cell_type": "code",
   "execution_count": 17,
   "id": "892c5cf3",
   "metadata": {},
   "outputs": [
    {
     "data": {
      "text/plain": [
       "array([[2, 3],\n",
       "       [4, 5],\n",
       "       [6, 7]])"
      ]
     },
     "execution_count": 17,
     "metadata": {},
     "output_type": "execute_result"
    }
   ],
   "source": [
    "# Addition\n",
    "arr1 = np.array([[1, 2], [3, 4], [5, 6]])\n",
    "arr2 = np.array([[1, 1], [1, 1], [1, 1]])\n",
    "result = arr1 + arr2\n",
    "result"
   ]
  },
  {
   "cell_type": "code",
   "execution_count": 18,
   "id": "612da732",
   "metadata": {},
   "outputs": [
    {
     "data": {
      "text/plain": [
       "array([1.6, 3.2, 4.8])"
      ]
     },
     "execution_count": 18,
     "metadata": {},
     "output_type": "execute_result"
    }
   ],
   "source": [
    "# Multiplication : scalar * array\n",
    "miles = np.array([1, 2, 3])\n",
    "result = miles * 1.6\n",
    "result"
   ]
  },
  {
   "cell_type": "code",
   "execution_count": 19,
   "id": "d2954871",
   "metadata": {},
   "outputs": [
    {
     "data": {
      "text/plain": [
       "array([[ 2,  4],\n",
       "       [ 6,  8],\n",
       "       [10, 12]])"
      ]
     },
     "execution_count": 19,
     "metadata": {},
     "output_type": "execute_result"
    }
   ],
   "source": [
    "# Multiplication : same-shaped arrays\n",
    "arr1 = np.array([[1, 2], [3, 4], [5, 6]])\n",
    "arr2 = np.array([[2, 2], [2, 2], [2, 2]])\n",
    "result = arr1 * arr2\n",
    "result"
   ]
  },
  {
   "cell_type": "code",
   "execution_count": 50,
   "id": "2f0dc525",
   "metadata": {},
   "outputs": [
    {
     "name": "stdout",
     "output_type": "stream",
     "text": [
      "[[12 12]\n",
      " [30 30]\n",
      " [48 48]]\n",
      "[[12 12]\n",
      " [30 30]\n",
      " [48 48]]\n",
      "[[12 12]\n",
      " [30 30]\n",
      " [48 48]]\n"
     ]
    }
   ],
   "source": [
    "# Multiplication : Matrix Multiplication == Dot Product\n",
    "arr1 = np.array([[1, 2, 3], [4, 5, 6], [7, 8, 9]])\n",
    "arr2 = np.array([[2, 2], [2, 2], [2, 2]])\n",
    "\n",
    "print(arr1 @ arr2)\n",
    "print(arr1.dot(arr2))\n",
    "print(np.matmul(arr1, arr2))"
   ]
  },
  {
   "cell_type": "markdown",
   "id": "d9e20884",
   "metadata": {},
   "source": [
    "#### Functions"
   ]
  },
  {
   "cell_type": "code",
   "execution_count": 52,
   "id": "2a514e17",
   "metadata": {},
   "outputs": [
    {
     "name": "stdout",
     "output_type": "stream",
     "text": [
      "45\n",
      "1\n",
      "9\n"
     ]
    }
   ],
   "source": [
    "a = np.array([[1, 2, 3], [4, 5, 6], [7, 8, 9]])\n",
    "print(a.sum())\n",
    "print(a.min())\n",
    "print(a.max())"
   ]
  },
  {
   "cell_type": "code",
   "execution_count": 54,
   "id": "bf9608fb",
   "metadata": {},
   "outputs": [
    {
     "name": "stdout",
     "output_type": "stream",
     "text": [
      "[92.   80.5  78.75]\n",
      "[84.         91.         79.66666667 80.33333333]\n"
     ]
    }
   ],
   "source": [
    "scores = np.array([[99, 93, 60], [98, 82, 93], [93, 65, 81], [78, 82, 81]])\n",
    "print(scores.mean(axis=0)) # 세로(열) 방향 평균\n",
    "print(scores.mean(axis=1)) # 가로(행) 방향 평균"
   ]
  },
  {
   "cell_type": "markdown",
   "id": "43d1ff4d",
   "metadata": {},
   "source": [
    "### Random Number Generation"
   ]
  },
  {
   "cell_type": "code",
   "execution_count": 56,
   "id": "009c5008",
   "metadata": {},
   "outputs": [
    {
     "name": "stdout",
     "output_type": "stream",
     "text": [
      "[0.54340494 0.27836939 0.42451759 0.84477613 0.00471886]\n",
      "[[0.12156912 0.67074908 0.82585276]\n",
      " [0.13670659 0.57509333 0.89132195]\n",
      " [0.20920212 0.18532822 0.10837689]\n",
      " [0.21969749 0.97862378 0.81168315]\n",
      " [0.17194101 0.81622475 0.27407375]]\n"
     ]
    }
   ],
   "source": [
    "# np.random.seed()는 랜덤 값을 고정하는 데에 사용됨 -> 시뮬레이션의 재실행\n",
    "# 랜덤 값은 0 이상 1미만의 값을 가진다\n",
    "np.random.seed(100)\n",
    "print(np.random.rand(5))\n",
    "print(np.random.rand(5, 3))"
   ]
  },
  {
   "cell_type": "code",
   "execution_count": 58,
   "id": "ea7efcdc",
   "metadata": {},
   "outputs": [
    {
     "name": "stdout",
     "output_type": "stream",
     "text": [
      "[[ 0.75044476 -0.45594693  1.18962227 -1.69061683]\n",
      " [-1.35639905 -1.23243451 -0.54443916 -0.66817174]\n",
      " [ 0.00731456 -0.61293874  1.29974807 -1.73309562]\n",
      " [-0.9833101   0.35750775 -1.6135785   1.47071387]\n",
      " [-1.1880176  -0.54974619 -0.94004616 -0.82793236]]\n"
     ]
    },
    {
     "data": {
      "text/plain": [
       "array([10.21772694, 11.01561918,  8.27554531, 12.49893949,  9.84077751])"
      ]
     },
     "execution_count": 58,
     "metadata": {},
     "output_type": "execute_result"
    }
   ],
   "source": [
    "# np.random.randn(row, col)은 평균 0, 가우시안 분산 1의 랜덤 수를 생성\n",
    "new = np.random.randn(5, 4)\n",
    "print(new)\n",
    "\n",
    "m, sigma = 10, 2\n",
    "print(m + sigma * np.random.randn(5)) # 평균 10, 표준 편차 2를 가지게 함"
   ]
  },
  {
   "cell_type": "code",
   "execution_count": 59,
   "id": "b98d25a4",
   "metadata": {},
   "outputs": [
    {
     "data": {
      "text/plain": [
       "array([-0.08897315, -0.08817984,  0.00186389,  0.02378446,  0.00135485])"
      ]
     },
     "execution_count": 59,
     "metadata": {},
     "output_type": "execute_result"
    }
   ],
   "source": [
    "# np.random.normal(loc=mean, scale=standard deviation, size)는 해당 값을 특성으로 하는 정규 분포의 랜덤 수 생성\n",
    "mu, sigma = 0, 0.1 # 평균과 표준편차\n",
    "np.random.normal(mu, sigma, 5)"
   ]
  },
  {
   "cell_type": "code",
   "execution_count": 64,
   "id": "87b12174",
   "metadata": {},
   "outputs": [
    {
     "name": "stdout",
     "output_type": "stream",
     "text": [
      "[[1 2]\n",
      " [3 4]\n",
      " [5 6]]\n",
      "\n",
      "[[1 3 5]\n",
      " [2 4 6]]\n"
     ]
    }
   ],
   "source": [
    "# Transpose (전치행렬)\n",
    "arr = np.array([[1, 2], [3, 4], [5, 6]])\n",
    "print(arr, arr.T, sep=\"\\n\\n\")"
   ]
  },
  {
   "cell_type": "code",
   "execution_count": 65,
   "id": "1b16dbd7",
   "metadata": {},
   "outputs": [
    {
     "name": "stdout",
     "output_type": "stream",
     "text": [
      "[[ 1  2  3  4]\n",
      " [ 5  6  7  8]\n",
      " [ 9 10 11 12]]\n",
      "\n",
      "[ 1  2  3  4  5  6  7  8  9 10 11 12]\n"
     ]
    }
   ],
   "source": [
    "# flatten (평탄화)\n",
    "x = np.array([[1, 2, 3, 4], [5, 6, 7, 8], [9, 10, 11, 12]])\n",
    "print(x, x.flatten(), sep=\"\\n\\n\") # to 1d array"
   ]
  },
  {
   "cell_type": "markdown",
   "id": "5b339032",
   "metadata": {},
   "source": [
    "## Matplotlib"
   ]
  },
  {
   "cell_type": "code",
   "execution_count": 67,
   "id": "9eb47f3c",
   "metadata": {},
   "outputs": [],
   "source": [
    "import matplotlib.pyplot as plt"
   ]
  },
  {
   "cell_type": "code",
   "execution_count": 68,
   "id": "1410a1f0",
   "metadata": {},
   "outputs": [
    {
     "data": {
      "image/png": "[encoded data removed]",
      "text/plain": [
       "<Figure size 640x480 with 1 Axes>"
      ]
     },
     "metadata": {},
     "output_type": "display_data"
    }
   ],
   "source": [
    "# line graph\n",
    "X = ['Mon', 'Tue', 'Wed', 'Thur', 'Fri', 'Sat', 'Sun']\n",
    "Y1 = [15.6, 14.2, 16.3, 18.2, 17.1, 20.2, 22.4]\n",
    "Y2 = [20.1, 23.1, 23.8, 25.9, 23.4, 25.1, 26.3]\n",
    "\n",
    "plt.plot(X, Y1, label='Seoul')\n",
    "plt.plot(X, Y2, label='Busan') # 분리시켜서 그릴 수 있음\n",
    "\n",
    "# 각 축에 대한 라벨\n",
    "plt.xlabel('day')\n",
    "plt.ylabel('temperature')\n",
    "\n",
    "plt.legend(loc='upper left') # 범례 위치\n",
    "plt.title(\"Temperatures of Cities\")\n",
    "plt.show()"
   ]
  },
  {
   "cell_type": "code",
   "execution_count": 69,
   "id": "3c33e603",
   "metadata": {},
   "outputs": [
    {
     "data": {
      "image/png": "[encoded data removed]",
      "text/plain": [
       "<Figure size 640x480 with 1 Axes>"
      ]
     },
     "metadata": {},
     "output_type": "display_data"
    }
   ],
   "source": [
    "# dot graph\n",
    "# 아래는 뭐지? \n",
    "%matplotlib inline \n",
    "\n",
    "X = ['Mon', 'Tue', 'Wed', 'Thur', 'Fri', 'Sat', 'Sun']\n",
    "plt.plot([15.6, 14.2, 16.3, 18.2, 17.1, 20.2, 22.4], \"sm\")\n",
    "plt.show()"
   ]
  },
  {
   "cell_type": "code",
   "execution_count": 72,
   "id": "7d1f3cea",
   "metadata": {},
   "outputs": [
    {
     "data": {
      "image/png": "[encoded data removed]",
      "text/plain": [
       "<Figure size 640x480 with 1 Axes>"
      ]
     },
     "metadata": {},
     "output_type": "display_data"
    }
   ],
   "source": [
    "# numpy + matplotlib\n",
    "X = np.arange(0, 10)\n",
    "Y1 = np.ones(10)\n",
    "Y2 = X\n",
    "Y3 = X**2 \n",
    "plt.plot(X, Y1, X, Y2, X, Y3)\n",
    "plt.show()"
   ]
  },
  {
   "cell_type": "markdown",
   "id": "8cb6439a",
   "metadata": {},
   "source": []
  }
 ],
 "metadata": {
  "kernelspec": {
   "display_name": "Python 3 (ipykernel)",
   "language": "python",
   "name": "python3"
  },
  "language_info": {
   "codemirror_mode": {
    "name": "ipython",
    "version": 3
   },
   "file_extension": ".py",
   "mimetype": "text/x-python",
   "name": "python",
   "nbconvert_exporter": "python",
   "pygments_lexer": "ipython3",
   "version": "3.7.16"
  }
 },
 "nbformat": 4,
 "nbformat_minor": 5
}
