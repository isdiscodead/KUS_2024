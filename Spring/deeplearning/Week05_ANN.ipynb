{
 "cells": [
  {
   "cell_type": "markdown",
   "metadata": {},
   "source": [
    "single perceptron implementation"
   ]
  },
  {
   "cell_type": "code",
   "execution_count": 5,
   "metadata": {},
   "outputs": [
    {
     "name": "stdout",
     "output_type": "stream",
     "text": [
      "0\n",
      "0\n",
      "0\n",
      "1\n"
     ]
    }
   ],
   "source": [
    "import numpy as np\n",
    "\n",
    "epsilon = 0\n",
    "\n",
    "def perceptron(x1, x2):\n",
    "    X = np.array([x1, x2]) # data\n",
    "    W = np.array([1.0, 1.0]) # 가중치 weights\n",
    "    B = -1.5 # bias 편향 -> 노드마다 다를 수 있음 \n",
    "\n",
    "    sum = np.dot(W, X) + B # dot production에 편향 더해줌\n",
    "\n",
    "    if sum > epsilon : # activation function - 일정 수치(epsilon) 넘어야 신호 전달 (1)\n",
    "        return 1\n",
    "    else :\n",
    "        return 0\n",
    "\n",
    "print(perceptron(0, 0))\n",
    "print(perceptron(1, 0))\n",
    "print(perceptron(0, 1))\n",
    "print(perceptron(1, 1))"
   ]
  },
  {
   "cell_type": "markdown",
   "metadata": {},
   "source": [
    "Train Algorithm"
   ]
  },
  {
   "cell_type": "code",
   "execution_count": 6,
   "metadata": {},
   "outputs": [],
   "source": [
    "epsilon = 0\n",
    "\n",
    "def step_func(t): # Activation function\n",
    "    if t > epsilon: \n",
    "        return 1\n",
    "    else: \n",
    "        return 0\n",
    "\n",
    "X = np.array([ # training dataset\n",
    "[0, 0, 1], # last 1 is input for bias\n",
    "[0, 1, 1], # last 1 is input for bias\n",
    "[1, 0, 1], # last 1 is input for bias\n",
    "[1, 1, 1] # last 1 is input for bias\n",
    "])\n",
    "\n",
    "y = np.array([0, 0, 0, 1]) # answer array\n",
    "W = np.zeros(len(X[0])) # weight array ( not random, starts with 0 )"
   ]
  },
  {
   "cell_type": "code",
   "execution_count": 7,
   "metadata": {},
   "outputs": [
    {
     "name": "stdout",
     "output_type": "stream",
     "text": [
      "================================\n"
     ]
    }
   ],
   "source": [
    "def perceptron_fit(X, Y, epochs=10): # 퍼셉트론 학습 알고리즘 구현\n",
    "    global W # weights -> 계속해서 변경되어 사용되므로 global 선언\n",
    "    eta = 0.2 # 학습률 (step) -> 얼마나 변경될지 가중되는 값\n",
    "\n",
    "    for t in range(epochs):\n",
    "        print(\"epoch=\", t, \"======================\")\n",
    "\n",
    "        for i in range(len(X)):\n",
    "            predict = step_func(np.dot(X[i], W))\n",
    "            error = Y[i] - predict # compute error\n",
    "            W += eta * error * X[i] # update weight\n",
    "            print(\"current input=\", X[i], \"label=\",Y[i],\n",
    "                  \"predicted output=\", predict, \"updated weights=\", W)\n",
    "print(\"================================\")"
   ]
  },
  {
   "cell_type": "code",
   "execution_count": 9,
   "metadata": {},
   "outputs": [
    {
     "name": "stdout",
     "output_type": "stream",
     "text": [
      "epoch= 0 ======================\n",
      "current input= [0 0 1] label= 0 predicted output= 0 updated weights= [ 0.4  0.2 -0.4]\n",
      "current input= [0 1 1] label= 0 predicted output= 0 updated weights= [ 0.4  0.2 -0.4]\n",
      "current input= [1 0 1] label= 0 predicted output= 0 updated weights= [ 0.4  0.2 -0.4]\n",
      "current input= [1 1 1] label= 1 predicted output= 1 updated weights= [ 0.4  0.2 -0.4]\n",
      "epoch= 1 ======================\n",
      "current input= [0 0 1] label= 0 predicted output= 0 updated weights= [ 0.4  0.2 -0.4]\n",
      "current input= [0 1 1] label= 0 predicted output= 0 updated weights= [ 0.4  0.2 -0.4]\n",
      "current input= [1 0 1] label= 0 predicted output= 0 updated weights= [ 0.4  0.2 -0.4]\n",
      "current input= [1 1 1] label= 1 predicted output= 1 updated weights= [ 0.4  0.2 -0.4]\n",
      "epoch= 2 ======================\n",
      "current input= [0 0 1] label= 0 predicted output= 0 updated weights= [ 0.4  0.2 -0.4]\n",
      "current input= [0 1 1] label= 0 predicted output= 0 updated weights= [ 0.4  0.2 -0.4]\n",
      "current input= [1 0 1] label= 0 predicted output= 0 updated weights= [ 0.4  0.2 -0.4]\n",
      "current input= [1 1 1] label= 1 predicted output= 1 updated weights= [ 0.4  0.2 -0.4]\n",
      "epoch= 3 ======================\n",
      "current input= [0 0 1] label= 0 predicted output= 0 updated weights= [ 0.4  0.2 -0.4]\n",
      "current input= [0 1 1] label= 0 predicted output= 0 updated weights= [ 0.4  0.2 -0.4]\n",
      "current input= [1 0 1] label= 0 predicted output= 0 updated weights= [ 0.4  0.2 -0.4]\n",
      "current input= [1 1 1] label= 1 predicted output= 1 updated weights= [ 0.4  0.2 -0.4]\n",
      "epoch= 4 ======================\n",
      "current input= [0 0 1] label= 0 predicted output= 0 updated weights= [ 0.4  0.2 -0.4]\n",
      "current input= [0 1 1] label= 0 predicted output= 0 updated weights= [ 0.4  0.2 -0.4]\n",
      "current input= [1 0 1] label= 0 predicted output= 0 updated weights= [ 0.4  0.2 -0.4]\n",
      "current input= [1 1 1] label= 1 predicted output= 1 updated weights= [ 0.4  0.2 -0.4]\n",
      "epoch= 5 ======================\n",
      "current input= [0 0 1] label= 0 predicted output= 0 updated weights= [ 0.4  0.2 -0.4]\n",
      "current input= [0 1 1] label= 0 predicted output= 0 updated weights= [ 0.4  0.2 -0.4]\n",
      "current input= [1 0 1] label= 0 predicted output= 0 updated weights= [ 0.4  0.2 -0.4]\n",
      "current input= [1 1 1] label= 1 predicted output= 1 updated weights= [ 0.4  0.2 -0.4]\n",
      "0 0 -> 0\n",
      "0 1 -> 0\n",
      "1 0 -> 0\n",
      "1 1 -> 1\n"
     ]
    }
   ],
   "source": [
    "def perceptron_predict(X, Y): # prediction function\n",
    "    global W\n",
    "    for x in X:\n",
    "        print(x[0], x[1], \"->\", step_func(np.dot(x, W)))\n",
    "        \n",
    "perceptron_fit(X, y, 6) # epoch = 6 ; 6번의 학습\n",
    "\n",
    "perceptron_predict(X, y) # 결과 확인"
   ]
  },
  {
   "cell_type": "markdown",
   "metadata": {},
   "source": [
    "Same work with scikit-learn library"
   ]
  },
  {
   "cell_type": "code",
   "execution_count": 10,
   "metadata": {},
   "outputs": [
    {
     "name": "stdout",
     "output_type": "stream",
     "text": [
      "[0 0 0 1]\n"
     ]
    }
   ],
   "source": [
    "from sklearn.linear_model import Perceptron\n",
    "# 샘플과 레이블이다.\n",
    "X = [[0,0],[0,1],[1,0],[1,1]]\n",
    "y = [0, 0, 0, 1]\n",
    "# create a perceptron. tol is termination condition. random_state is random number seed.\n",
    "clf = Perceptron(tol=1e-3, random_state=0)\n",
    "# train\n",
    "clf.fit(X, y)\n",
    "# test\n",
    "print(clf.predict(X))"
   ]
  },
  {
   "cell_type": "markdown",
   "metadata": {},
   "source": []
  }
 ],
 "metadata": {
  "kernelspec": {
   "display_name": "deep",
   "language": "python",
   "name": "deep"
  },
  "language_info": {
   "codemirror_mode": {
    "name": "ipython",
    "version": 3
   },
   "file_extension": ".py",
   "mimetype": "text/x-python",
   "name": "python",
   "nbconvert_exporter": "python",
   "pygments_lexer": "ipython3",
   "version": "3.7.16"
  }
 },
 "nbformat": 4,
 "nbformat_minor": 2
}
