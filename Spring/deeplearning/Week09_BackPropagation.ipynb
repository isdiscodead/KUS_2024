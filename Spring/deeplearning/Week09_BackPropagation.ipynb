{
 "cells": [
  {
   "cell_type": "code",
   "execution_count": 21,
   "metadata": {},
   "outputs": [],
   "source": [
    "import numpy as np"
   ]
  },
  {
   "cell_type": "code",
   "execution_count": 22,
   "metadata": {},
   "outputs": [],
   "source": [
    "# sigmoid function\n",
    "def actf(x):\n",
    "    return 1/(1+np.exp(-x))\n",
    "# first derivative of sigmoid\n",
    "\n",
    "def actf_deriv(x):\n",
    "    return x*(1-x)\n",
    "\n",
    "# input node, hidden node, output node\n",
    "inputs, hiddens, outputs = 2, 2, 1\n",
    "learning_rate=0.2\n",
    "\n",
    "# training samples and it labels\n",
    "X = np.array([[0, 0], [0, 1], [1, 0], [1, 1]])\n",
    "T = np.array([[0], [1], [1], [0]])"
   ]
  },
  {
   "cell_type": "code",
   "execution_count": 23,
   "metadata": {},
   "outputs": [],
   "source": [
    "W1 = np.array([[0.10,0.20], [0.30,0.40]])\n",
    "W2 = np.array([[0.50],[0.60]])\n",
    "B1 = np.array([0.1, 0.2])\n",
    "B2 = np.array([0.3])"
   ]
  },
  {
   "cell_type": "code",
   "execution_count": 24,
   "metadata": {},
   "outputs": [],
   "source": [
    "# forward propagation\n",
    "def predict(x):\n",
    "    layer0 = x # feed in the input to the input layer\n",
    "    Z1 = np.dot(layer0, W1)+B1 # matrix multiplication\n",
    "    layer1 = actf(Z1) # activation function\n",
    "    Z2 = np.dot(layer1, W2)+B2 # matrix multiplication\n",
    "    layer2 = actf(Z2) # activation function\n",
    "    return layer0, layer1, layer2"
   ]
  },
  {
   "cell_type": "code",
   "execution_count": 25,
   "metadata": {},
   "outputs": [],
   "source": [
    "# Back propagation calculation\n",
    "def fit():\n",
    "    global W1, W2, B1, B2 # Need to update variable outside of this function\n",
    "    for i in range(90000): # iterate for 90000 times\n",
    "        for x, y in zip(X, T): # for each training sample\n",
    "            x = np.reshape(x, (1, -1)) # reshape to 2-dimensional matrix ①\n",
    "            y = np.reshape(y, (1, -1)) # reshape to 2-dimensional matrix\n",
    "            \n",
    "            layer0, layer1, layer2 = predict(x) # forward compute\n",
    "            layer2_error = layer2-y # error\n",
    "            layer2_delta = layer2_error*actf_deriv(layer2) # delta of output layer\n",
    "            layer1_error = np.dot(layer2_delta, W2.T) # error of hidden layer ②\n",
    "            layer1_delta = layer1_error*actf_deriv(layer1) # delta of hidden layer ③\n",
    "\n",
    "            W2 += -learning_rate*np.dot(layer1.T, layer2_delta) # ④\n",
    "            W1 += -learning_rate*np.dot(layer0.T, layer1_delta) #\n",
    "            B2 += -learning_rate*np.sum(layer2_delta, axis=0) # ⑤\n",
    "            B1 += -learning_rate*np.sum(layer1_delta, axis=0) # "
   ]
  },
  {
   "cell_type": "code",
   "execution_count": 26,
   "metadata": {},
   "outputs": [],
   "source": [
    "def test():\n",
    "    for x, y in zip(X, T): # for each sample\n",
    "        x = np.reshape(x, (1, -1)) # reshape to 2 dimensional matrix\n",
    "        layer0, layer1, layer2 = predict(x)\n",
    "        print(x, y, layer2) # print output"
   ]
  },
  {
   "cell_type": "code",
   "execution_count": 27,
   "metadata": {},
   "outputs": [
    {
     "name": "stdout",
     "output_type": "stream",
     "text": [
      "[[0 0]] [0] [[0.00814407]]\n",
      "[[0 1]] [1] [[0.99154105]]\n",
      "[[1 0]] [1] [[0.99152258]]\n",
      "[[1 1]] [0] [[0.01038517]]\n"
     ]
    }
   ],
   "source": [
    "fit()\n",
    "test()"
   ]
  },
  {
   "cell_type": "markdown",
   "metadata": {},
   "source": [
    "### 2-layer DNN for XOR"
   ]
  },
  {
   "cell_type": "code",
   "execution_count": 28,
   "metadata": {},
   "outputs": [
    {
     "name": "stdout",
     "output_type": "stream",
     "text": [
      "[[0 0]] [0] [[0.00746125]]\n",
      "[[0 1]] [1] [[0.99226229]]\n",
      "[[1 0]] [1] [[0.99224618]]\n",
      "[[1 1]] [0] [[0.00949302]]\n"
     ]
    }
   ],
   "source": [
    "def fit():\n",
    "    global W1, W2, B1, B2\n",
    "    for i in range(60000):\n",
    "        layer0, layer1, layer2 = predict(X)\n",
    "\n",
    "        layer2_error = layer2-T\n",
    "        layer2_delta = layer2_error*actf_deriv(layer2)\n",
    "        layer1_error = np.dot(layer2_delta, W2.T)\n",
    "        layer1_delta = layer1_error*actf_deriv(layer1)\n",
    "\n",
    "        W2 += -learning_rate*np.dot(layer1.T, layer2_delta)/4.0\n",
    "        W1 += -learning_rate*np.dot(layer0.T, layer1_delta)/4.0\n",
    "        B2 += -learning_rate*np.sum(layer2_delta, axis=0)/4.0\n",
    "        B1 += -learning_rate*np.sum(layer1_delta, axis=0)/4.0\n",
    "\n",
    "def test():\n",
    "    for x, y in zip(X, T):\n",
    "        x = np.reshape(x, (1, -1)) # reshape to 2 dimensional matrix\n",
    "        layer0, layer1, layer2 = predict(x)\n",
    "        print(x, y, layer2)\n",
    "        \n",
    "fit()\n",
    "test()"
   ]
  }
 ],
 "metadata": {
  "kernelspec": {
   "display_name": "deep",
   "language": "python",
   "name": "python3"
  },
  "language_info": {
   "codemirror_mode": {
    "name": "ipython",
    "version": 3
   },
   "file_extension": ".py",
   "mimetype": "text/x-python",
   "name": "python",
   "nbconvert_exporter": "python",
   "pygments_lexer": "ipython3",
   "version": "3.7.16"
  }
 },
 "nbformat": 4,
 "nbformat_minor": 2
}
