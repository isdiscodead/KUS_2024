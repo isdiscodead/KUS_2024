{
 "cells": [
  {
   "cell_type": "code",
   "execution_count": 2,
   "metadata": {},
   "outputs": [
    {
     "name": "stdout",
     "output_type": "stream",
     "text": [
      "Epoch 1/3\n",
      "4/4 [==============================] - 0s 1ms/step - loss: 0.2854\n",
      "Epoch 2/3\n",
      "4/4 [==============================] - 0s 736us/step - loss: 0.2504\n",
      "Epoch 3/3\n",
      "4/4 [==============================] - 0s 647us/step - loss: 0.2260\n",
      "INFO:tensorflow:Assets written to: my_model/assets\n",
      "Epoch 1/3\n",
      "4/4 [==============================] - 0s 1ms/step - loss: 0.2083\n",
      "Epoch 2/3\n",
      "4/4 [==============================] - 0s 1ms/step - loss: 0.1975\n",
      "Epoch 3/3\n",
      "4/4 [==============================] - 0s 857us/step - loss: 0.1929\n"
     ]
    },
    {
     "data": {
      "text/plain": [
       "<keras.callbacks.History at 0x7fbce8e28650>"
      ]
     },
     "execution_count": 2,
     "metadata": {},
     "output_type": "execute_result"
    }
   ],
   "source": [
    "import numpy as np\n",
    "import tensorflow as tf\n",
    "\n",
    "# training examples with random number generation 난수로 훈련 예제를 만든다.\n",
    "test_input = np.random.random((128, 32))\n",
    "test_target = np.random.random((128, 1))\n",
    "\n",
    "# DNN with input:32, output: 1. Functional API is used.\n",
    "inputs = tf.keras.Input(shape=(32,))\n",
    "outputs = tf.keras.layers.Dense(1)(inputs)\n",
    "model = tf.keras.Model(inputs, outputs)\n",
    "model.compile(optimizer=\"adam\", loss=\"mean_squared_error\")\n",
    "\n",
    "# Train DNN for 3 epochs\n",
    "model.fit(test_input, test_target, epochs=3)\n",
    "\n",
    "# save the trained model\n",
    "model.save(\"my_model\")\n",
    "\n",
    "# load the trained model\n",
    "saved_model = tf.keras.models.load_model(\"my_model\")\n",
    "\n",
    "# retrain the DNN model for additional 3 epochs\n",
    "saved_model.fit(test_input, test_target, epochs=3)"
   ]
  },
  {
   "cell_type": "code",
   "execution_count": 1,
   "metadata": {},
   "outputs": [
    {
     "name": "stderr",
     "output_type": "stream",
     "text": [
      "2024-05-28 15:43:19.466894: I tensorflow/core/platform/cpu_feature_guard.cc:193] This TensorFlow binary is optimized with oneAPI Deep Neural Network Library (oneDNN) to use the following CPU instructions in performance-critical operations:  SSE4.1 SSE4.2\n",
      "To enable them in other operations, rebuild TensorFlow with the appropriate compiler flags.\n",
      "2024-05-28 15:44:07.574288: I tensorflow/core/platform/cpu_feature_guard.cc:193] This TensorFlow binary is optimized with oneAPI Deep Neural Network Library (oneDNN) to use the following CPU instructions in performance-critical operations:  SSE4.1 SSE4.2\n",
      "To enable them in other operations, rebuild TensorFlow with the appropriate compiler flags.\n"
     ]
    },
    {
     "name": "stdout",
     "output_type": "stream",
     "text": [
      "Downloading data from https://storage.googleapis.com/tensorflow/keras-applications/resnet/resnet50_weights_tf_dim_ordering_tf_kernels.h5\n",
      "102967424/102967424 [==============================] - 5s 0us/step\n",
      "1/1 [==============================] - 1s 666ms/step\n",
      "Downloading data from https://storage.googleapis.com/download.tensorflow.org/data/imagenet_class_index.json\n",
      "35363/35363 [==============================] - 0s 0us/step\n",
      "prediction: [('n02111889', 'Samoyed', 0.9786766), ('n02114548', 'white_wolf', 0.006895858), ('n02112018', 'Pomeranian', 0.006860038)]\n"
     ]
    }
   ],
   "source": [
    "from tensorflow.keras.applications.resnet50 import ResNet50\n",
    "from tensorflow.keras.preprocessing import image\n",
    "from tensorflow.keras.applications.resnet50 import preprocess_input, decode_predictions\n",
    "import numpy as np\n",
    "\n",
    "img_path = 'dog.png'\n",
    "img = image.load_img(img_path, target_size=(224, 224)) # load and reshape\n",
    "x = image.img_to_array(img) # convert img into numpy array\n",
    "x = np.expand_dims(x, axis=0) # expand dimension. Need it for batch processing\n",
    "x = preprocess_input(x) # preprocess for ResNet50\n",
    "\n",
    "model = ResNet50(weights='imagenet')\n",
    "preds = model.predict(x)\n",
    "print('prediction:', decode_predictions(preds, top=3)[0])"
   ]
  }
 ],
 "metadata": {
  "kernelspec": {
   "display_name": "deep",
   "language": "python",
   "name": "deep"
  },
  "language_info": {
   "codemirror_mode": {
    "name": "ipython",
    "version": 3
   },
   "file_extension": ".py",
   "mimetype": "text/x-python",
   "name": "python",
   "nbconvert_exporter": "python",
   "pygments_lexer": "ipython3",
   "version": "3.7.16"
  }
 },
 "nbformat": 4,
 "nbformat_minor": 2
}
