{
 "cells": [
  {
   "cell_type": "code",
   "execution_count": 1,
   "id": "6b8efb4c",
   "metadata": {},
   "outputs": [],
   "source": [
    "#Read CSV file\n",
    "# pip install biogeme\n",
    "# pip install pandas\n",
    "# pip install numpy\n",
    "# import os\n",
    "# datapath = 'C:/Users/user/DCCS221/Lab' \n",
    "# os.chdir(datapath)\n",
    "# os.getcwd()\n",
    "\n",
    "import pandas as pd\n",
    "# import numpy as np\n",
    "df = pd.read_csv('./SFBAdrivers.csv')"
   ]
  },
  {
   "cell_type": "code",
   "execution_count": 2,
   "id": "41721959",
   "metadata": {},
   "outputs": [
    {
     "data": {
      "text/plain": [
       "<bound method NDFrame.head of      HHVEHCNT  DRVRCNT  HHSIZE\n",
       "0           2        2       6\n",
       "1           1        1       1\n",
       "2           3        4       5\n",
       "3           2        2       2\n",
       "4           3        3       3\n",
       "..        ...      ...     ...\n",
       "582         2        2       2\n",
       "583         6        2       2\n",
       "584         1        2       2\n",
       "585         3        2       2\n",
       "586         1        1       1\n",
       "\n",
       "[587 rows x 3 columns]>"
      ]
     },
     "execution_count": 2,
     "metadata": {},
     "output_type": "execute_result"
    }
   ],
   "source": [
    "df.head"
   ]
  },
  {
   "cell_type": "code",
   "execution_count": 3,
   "id": "258571fa",
   "metadata": {},
   "outputs": [],
   "source": [
    "# Data include number of vehicle, drivers, members in a HH\n",
    "# Now we define the attributes as global variables\n",
    "# globals().update(df)"
   ]
  },
  {
   "cell_type": "markdown",
   "id": "2a831724",
   "metadata": {},
   "source": [
    "Problem 1. Sample space"
   ]
  },
  {
   "cell_type": "code",
   "execution_count": 4,
   "id": "809bbd96",
   "metadata": {
    "scrolled": true
   },
   "outputs": [
    {
     "name": "stdout",
     "output_type": "stream",
     "text": [
      "[0, 7]\n",
      "[0, 5]\n",
      "[1, 8]\n"
     ]
    }
   ],
   "source": [
    "# Problem 1\n",
    "# A. Sample space of household\n",
    "print([min(df.HHVEHCNT), max(df.HHVEHCNT)])\n",
    "# print([df.HHVEHCNT.min(), df.HHVEHCNT.max()])\n",
    "\n",
    "# B. Sample space of housrhold drivers\n",
    "print([min(df.DRVRCNT), max(df.DRVRCNT)])\n",
    "\n",
    "# C. Sample space of number of persons per household\n",
    "print([min(df.HHSIZE), max(df.HHSIZE)])"
   ]
  },
  {
   "cell_type": "markdown",
   "id": "660c2cff",
   "metadata": {},
   "source": [
    "Problem 2. Events (Counting elements in each event)"
   ]
  },
  {
   "cell_type": "code",
   "execution_count": 5,
   "id": "8192f969",
   "metadata": {},
   "outputs": [
    {
     "name": "stdout",
     "output_type": "stream",
     "text": [
      "229 178 196 11 40 38\n"
     ]
    }
   ],
   "source": [
    "# Problem 2\n",
    "# a. Household size is 2\n",
    "ans_2_a = len(df[df.HHVEHCNT == 2]) # 229\n",
    "# b. Number of drivers in the household is 2 and household size is 2\n",
    "ans_2_b = len(df[(df.DRVRCNT == 2) & (df.HHSIZE == 2)]) # 178\n",
    "# c. Number of vehicles in the household is 2 and number of household drivers is 2\n",
    "ans_2_c = len(df[(df.HHVEHCNT == 2) & (df.DRVRCNT == 2)]) # 196\n",
    "# d. Household size is larger than 5\n",
    "ans_2_d = len(df[(df.HHSIZE > 5)])\n",
    "# e. Household size is less than 3 and number of household vehicle is 3 or more\n",
    "ans_2_e = len(df[(df.HHSIZE < 3) & (df.HHVEHCNT >= 3)])\n",
    "# f. Number of household driver is 0 OR household vehicles is 0\n",
    "ans_2_f = len(df[(df.DRVRCNT == 0) | (df.HHVEHCNT == 0)])\n",
    "\n",
    "print(ans_2_a, ans_2_b, ans_2_c, ans_2_d, ans_2_e, ans_2_f)"
   ]
  },
  {
   "cell_type": "markdown",
   "id": "f7082659",
   "metadata": {},
   "source": [
    "Problem 3. Set operations"
   ]
  },
  {
   "cell_type": "code",
   "execution_count": 6,
   "id": "3cd507bf",
   "metadata": {},
   "outputs": [],
   "source": [
    "event_A = df[df.HHSIZE <= 2]\n",
    "event_Ac = df[df.HHSIZE > 2]\n",
    "event_B = df[df.HHVEHCNT == 0]\n",
    "event_Bc = df[df.HHVEHCNT > 0]"
   ]
  },
  {
   "cell_type": "code",
   "execution_count": 7,
   "id": "567b431c",
   "metadata": {},
   "outputs": [
    {
     "name": "stdout",
     "output_type": "stream",
     "text": [
      "233\n"
     ]
    }
   ],
   "source": [
    "# a. Event A: number of persons per household is 2 or fewer\n",
    "# b. Event Ac: number of persons per household is greater than 2.\n",
    "# c. Event B: household vehicles is 0\n",
    "# d. Event Bc: household vehicles is 1 or greater / greater than 0\n",
    "\n",
    "event_A = 'HHSIZE <= 2'\n",
    "event_Ac = 'HHSIZE > 2'\n",
    "event_B = 'HHVEHCNT == 0'\n",
    "event_Bc = 'HHVEHCNT > 0'\n",
    "\n",
    "# e. Find Ac ∩ Bc numerically using MATLAB\n",
    "p = df.query(event_Ac + ' & ' + event_Bc).index\n",
    "print(len(p))"
   ]
  },
  {
   "cell_type": "code",
   "execution_count": 8,
   "id": "21851f52",
   "metadata": {},
   "outputs": [
    {
     "name": "stdout",
     "output_type": "stream",
     "text": [
      "354\n",
      "Index([  0,   2,   4,   7,   8,   9,  11,  12,  13,  15,\n",
      "       ...\n",
      "       559, 560, 562, 564, 569, 571, 574, 577, 578, 581],\n",
      "      dtype='int64', length=233)\n",
      "Index([  1,   3,   5,   6,  10,  14,  16,  18,  20,  21,\n",
      "       ...\n",
      "       573, 575, 576, 579, 580, 582, 583, 584, 585, 586],\n",
      "      dtype='int64', length=354)\n"
     ]
    }
   ],
   "source": [
    "# f. Find A ∪ B numerically using Python\n",
    "# f.1\n",
    "r = df.query(event_A + ' | ' + event_B).index\n",
    "print(len(r))\n",
    "\n",
    "# f.2 Visually inspect p and r\n",
    "print(p)\n",
    "print(r)\n",
    "# No common elements because the vectors (events) are mutually explusive of one another\n"
   ]
  },
  {
   "cell_type": "code",
   "execution_count": 10,
   "id": "bc3f1c10",
   "metadata": {},
   "outputs": [
    {
     "name": "stdout",
     "output_type": "stream",
     "text": [
      "0\n"
     ]
    }
   ],
   "source": [
    "# f.3 Check f.2 with python loop\n",
    "B = 0\n",
    "for n in range(0, len(r)-1, 1):\n",
    "    for m in range(0, len(p)-1, 1):\n",
    "        if r[n]-p[m] == 0:\n",
    "            B = B+1;\n",
    "        else: B = B+0;\n",
    "\n",
    "print(B)    "
   ]
  },
  {
   "cell_type": "code",
   "execution_count": 12,
   "id": "0aff5a54",
   "metadata": {},
   "outputs": [
    {
     "data": {
      "text/plain": [
       "0"
      ]
     },
     "execution_count": 12,
     "metadata": {},
     "output_type": "execute_result"
    }
   ],
   "source": [
    "# g. (A ∪ B)c numerically\n",
    "len(df.HHVEHCNT) - (len(p)+len(r))\n",
    "\n",
    "# from g, p and r include the entire sample space"
   ]
  },
  {
   "cell_type": "markdown",
   "id": "9c23141d",
   "metadata": {},
   "source": [
    "Problem 4. Probability (Challenge question)"
   ]
  },
  {
   "cell_type": "code",
   "execution_count": 110,
   "id": "9508e729",
   "metadata": {},
   "outputs": [
    {
     "name": "stdout",
     "output_type": "stream",
     "text": [
      "[0.5945485519591142, 0.40545144804088584, 0.06303236797274275, 0.9369676320272572]\n",
      "[1.0]\n",
      "True\n"
     ]
    }
   ],
   "source": [
    "# From problem 3\n",
    "# event_A = 'HHSIZE <= 2'\n",
    "# event_Ac = 'HHSIZE > 2'\n",
    "# event_B = 'HHVEHCNT == 0'\n",
    "# event_Bc = 'HHVEHCNT > 0'\n",
    "\n",
    "# a. Calculate the probabilities\n",
    "prob_a = len(df.query(...))/len(df)\n",
    "prob_b = len(df.query(...))/len(df)\n",
    "prob_c = len(df.query(...))/len(df)\n",
    "prob_d = len(df.query(...))/len(df)\n",
    "\n",
    "print([...])\n",
    "\n",
    "# b. Calculate the probabilities (Example with event a and b)\n",
    "# b.1 P(E_1∪E_2 )=P(E_1 )+P(E_2 )-P(E_1∩E_2)\n",
    "event_a_in_b = (...) + ' & ' + (...) \n",
    "prob_a_in_b = len(df.query(...))/len(df)\n",
    "prob_a_u_b = prob_a + prob_b - prob_a_in_b\n",
    "\n",
    "print([prob_a_u_b])\n",
    "\n",
    "# b.2 P(E_1∩E_2)≥P(E_1)+P(E_2)-1\n",
    "print(prob_a_in_b >= prob_a + prob_b - 1)\n"
   ]
  }
 ],
 "metadata": {
  "kernelspec": {
   "display_name": "Python 3 (ipykernel)",
   "language": "python",
   "name": "python3"
  },
  "language_info": {
   "codemirror_mode": {
    "name": "ipython",
    "version": 3
   },
   "file_extension": ".py",
   "mimetype": "text/x-python",
   "name": "python",
   "nbconvert_exporter": "python",
   "pygments_lexer": "ipython3",
   "version": "3.11.3"
  }
 },
 "nbformat": 4,
 "nbformat_minor": 5
}
