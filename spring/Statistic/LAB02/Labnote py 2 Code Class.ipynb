{
 "cells": [
  {
   "cell_type": "code",
   "execution_count": 1,
   "metadata": {},
   "outputs": [],
   "source": [
    "import pandas as pd\n",
    "\n",
    "df = pd.read_csv('./SJrainfall.dat', sep=',', header=None)"
   ]
  },
  {
   "cell_type": "code",
   "execution_count": 2,
   "metadata": {},
   "outputs": [
    {
     "name": "stdout",
     "output_type": "stream",
     "text": [
      "    0      1\n",
      "0  68  13.87\n",
      "1  52  17.65\n",
      "2  63  22.15\n",
      "3  55  12.32\n",
      "4  76  22.29\n",
      "(43, 2)\n"
     ]
    }
   ],
   "source": [
    "print(df.head())\n",
    "print(df.shape)"
   ]
  },
  {
   "cell_type": "code",
   "execution_count": 3,
   "metadata": {},
   "outputs": [
    {
     "data": {
      "text/html": [
       "<div>\n",
       "<style scoped>\n",
       "    .dataframe tbody tr th:only-of-type {\n",
       "        vertical-align: middle;\n",
       "    }\n",
       "\n",
       "    .dataframe tbody tr th {\n",
       "        vertical-align: top;\n",
       "    }\n",
       "\n",
       "    .dataframe thead th {\n",
       "        text-align: right;\n",
       "    }\n",
       "</style>\n",
       "<table border=\"1\" class=\"dataframe\">\n",
       "  <thead>\n",
       "    <tr style=\"text-align: right;\">\n",
       "      <th></th>\n",
       "      <th>days</th>\n",
       "      <th>rain</th>\n",
       "    </tr>\n",
       "  </thead>\n",
       "  <tbody>\n",
       "    <tr>\n",
       "      <th>0</th>\n",
       "      <td>68</td>\n",
       "      <td>13.87</td>\n",
       "    </tr>\n",
       "    <tr>\n",
       "      <th>1</th>\n",
       "      <td>52</td>\n",
       "      <td>17.65</td>\n",
       "    </tr>\n",
       "    <tr>\n",
       "      <th>2</th>\n",
       "      <td>63</td>\n",
       "      <td>22.15</td>\n",
       "    </tr>\n",
       "    <tr>\n",
       "      <th>3</th>\n",
       "      <td>55</td>\n",
       "      <td>12.32</td>\n",
       "    </tr>\n",
       "    <tr>\n",
       "      <th>4</th>\n",
       "      <td>76</td>\n",
       "      <td>22.29</td>\n",
       "    </tr>\n",
       "  </tbody>\n",
       "</table>\n",
       "</div>"
      ],
      "text/plain": [
       "   days   rain\n",
       "0    68  13.87\n",
       "1    52  17.65\n",
       "2    63  22.15\n",
       "3    55  12.32\n",
       "4    76  22.29"
      ]
     },
     "execution_count": 3,
     "metadata": {},
     "output_type": "execute_result"
    }
   ],
   "source": [
    "#assign headers\n",
    "df.columns = ['days', 'rain']\n",
    "df.head()"
   ]
  },
  {
   "cell_type": "markdown",
   "metadata": {},
   "source": [
    "Problem 1 "
   ]
  },
  {
   "cell_type": "code",
   "execution_count": 4,
   "metadata": {},
   "outputs": [],
   "source": [
    "E1_cond = 'days > 65'; E2_cond = 'rain > 22'"
   ]
  },
  {
   "cell_type": "code",
   "execution_count": 5,
   "metadata": {},
   "outputs": [
    {
     "name": "stdout",
     "output_type": "stream",
     "text": [
      "0.5348837209302325\n"
     ]
    }
   ],
   "source": [
    "E1 = df.query(E1_cond).index\n",
    "Prob_E1 = len(E1)/len(df)\n",
    "print(Prob_E1)"
   ]
  },
  {
   "cell_type": "code",
   "execution_count": 6,
   "metadata": {},
   "outputs": [
    {
     "name": "stdout",
     "output_type": "stream",
     "text": [
      "0.4883720930232558\n"
     ]
    }
   ],
   "source": [
    "E2 = df.query(E2_cond).index\n",
    "Prob_E2 = len(E2)/len(df)\n",
    "print(Prob_E2)"
   ]
  },
  {
   "cell_type": "code",
   "execution_count": 7,
   "metadata": {},
   "outputs": [
    {
     "name": "stdout",
     "output_type": "stream",
     "text": [
      "0.3953488372093023\n"
     ]
    }
   ],
   "source": [
    "E1_in_E2_cond = E1_cond + ' & ' + E2_cond\n",
    "E1_in_E2 = df.query(E1_in_E2_cond).index\n",
    "Prob_E1_in_E2 = len(E1_in_E2)/len(df)\n",
    "print(Prob_E1_in_E2)"
   ]
  },
  {
   "cell_type": "code",
   "execution_count": 8,
   "metadata": {},
   "outputs": [
    {
     "name": "stdout",
     "output_type": "stream",
     "text": [
      "0.627906976744186\n"
     ]
    }
   ],
   "source": [
    "E1_u_E2_cond = E1_cond + ' | ' + E2_cond\n",
    "E1_u_E2 = df.query(E1_u_E2_cond).index\n",
    "Prob_E1_u_E2 = len(E1_u_E2)/len(df)\n",
    "print(Prob_E1_u_E2)"
   ]
  },
  {
   "cell_type": "code",
   "execution_count": 9,
   "metadata": {},
   "outputs": [
    {
     "name": "stdout",
     "output_type": "stream",
     "text": [
      "0.8095238095238095\n",
      "0.7391304347826088\n"
     ]
    }
   ],
   "source": [
    "Prob_E1_given_E2 = Prob_E1_in_E2/Prob_E2\n",
    "Prob_E2_given_E1 = Prob_E1_in_E2/Prob_E1\n",
    "print(Prob_E1_given_E2)\n",
    "print(Prob_E2_given_E1)"
   ]
  },
  {
   "cell_type": "code",
   "execution_count": 10,
   "metadata": {},
   "outputs": [
    {
     "name": "stdout",
     "output_type": "stream",
     "text": [
      "False\n",
      "False\n"
     ]
    }
   ],
   "source": [
    "# Independent?\n",
    "print(Prob_E1_given_E2 == Prob_E1)\n",
    "print(Prob_E2_given_E1 == Prob_E2)"
   ]
  },
  {
   "cell_type": "code",
   "execution_count": null,
   "metadata": {},
   "outputs": [],
   "source": [
    "# (QUESTION) Mutually exclusive? \n",
    "# (Provide ANSWER)"
   ]
  },
  {
   "cell_type": "code",
   "execution_count": 12,
   "metadata": {},
   "outputs": [
    {
     "name": "stdout",
     "output_type": "stream",
     "text": [
      "0.7391304347826088\n",
      "0.7391304347826088\n"
     ]
    }
   ],
   "source": [
    "# Verify the Bases' rule\n",
    "print(Prob_E2_given_E1)\n",
    "print((Prob_E1_given_E2 * Prob_E2) / Prob_E1)\n"
   ]
  },
  {
   "cell_type": "markdown",
   "metadata": {},
   "source": [
    "Problem 2 Investigate the proposition that the different seasons represent independent trials with respect to E2"
   ]
  },
  {
   "cell_type": "code",
   "execution_count": 45,
   "metadata": {},
   "outputs": [],
   "source": [
    "rain_curr = df.rain\n",
    "dummy = pd.Series([0])\n",
    "rain_curr = pd.concat([rain_curr, dummy]).reset_index(drop = True)"
   ]
  },
  {
   "cell_type": "code",
   "execution_count": 46,
   "metadata": {},
   "outputs": [],
   "source": [
    "rain_prior = df.rain\n",
    "rain_prior = pd.concat([dummy, rain_prior]).reset_index(drop = True)"
   ]
  },
  {
   "cell_type": "code",
   "execution_count": 54,
   "metadata": {},
   "outputs": [],
   "source": [
    "rain_both = pd.concat([rain_curr, rain_prior], axis=1)\n",
    "rain_both.columns = ['current', 'prior']"
   ]
  },
  {
   "cell_type": "code",
   "execution_count": null,
   "metadata": {},
   "outputs": [],
   "source": [
    "# (QUESTION) Define E2_1, Estimate P(E2|E2_1), and Implication about independence b/w given season and previous one. \n",
    "# (Provide ANSWER)"
   ]
  },
  {
   "cell_type": "markdown",
   "metadata": {},
   "source": [
    "Problem 3. Investigate the probability of having a rainy season was different in the 60-70s. "
   ]
  },
  {
   "cell_type": "markdown",
   "metadata": {},
   "source": [
    "Let E3 = The event that the season is 1980-91 or before (1-21 observations correspond to the 60-81) \\\n",
    "Calculate P_E1 given E3"
   ]
  },
  {
   "cell_type": "code",
   "execution_count": null,
   "metadata": {},
   "outputs": [],
   "source": [
    "E3 = df.iloc[0:21]\n",
    "Prob_E3 = len(E3)/len(df)\n",
    "\n",
    "# (QUESTION) Calculate P(E1|E3), P(E2|E3)\n",
    "# (Provide ANSWER)\n",
    "E1_in_E3_cond = '...'\n",
    "E1_in_E3 = E3.query(E1_in_E3_cond).index\n",
    "Prob_E1_in_E3 = len(E1_in_E3)/len(df)\n",
    "\n",
    "E2_in_E3_cond = '...'\n",
    "E2_in_E3 = E3.query(E2_in_E3_cond).index\n",
    "Prob_E2_in_E3 = len(E2_in_E3)/len(df)\n",
    "\n",
    "# (Interprete the result)"
   ]
  },
  {
   "cell_type": "code",
   "execution_count": 93,
   "metadata": {},
   "outputs": [
    {
     "name": "stdout",
     "output_type": "stream",
     "text": [
      "0.39130434782608703\n",
      "0.380952380952381\n"
     ]
    }
   ],
   "source": [
    "# P(E3|E2), P(E3|E1)\n",
    "Prob_E3_given_E1 = Prob_E1_in_E3/Prob_E1\n",
    "Prob_E3_given_E2 = Prob_E2_in_E3/Prob_E2\n",
    "\n",
    "print(Prob_E3_given_E1)\n",
    "print(Prob_E3_given_E2)\n",
    "\n",
    "# (Interprete the result)"
   ]
  },
  {
   "cell_type": "markdown",
   "metadata": {},
   "source": []
  }
 ],
 "metadata": {
  "kernelspec": {
   "display_name": "Python 3",
   "language": "python",
   "name": "python3"
  },
  "language_info": {
   "codemirror_mode": {
    "name": "ipython",
    "version": 3
   },
   "file_extension": ".py",
   "mimetype": "text/x-python",
   "name": "python",
   "nbconvert_exporter": "python",
   "pygments_lexer": "ipython3",
   "version": "3.11.3"
  }
 },
 "nbformat": 4,
 "nbformat_minor": 2
}
