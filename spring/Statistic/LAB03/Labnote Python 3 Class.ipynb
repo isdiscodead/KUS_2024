{
 "cells": [
  {
   "cell_type": "code",
   "execution_count": 1,
   "id": "6b8efb4c",
   "metadata": {},
   "outputs": [],
   "source": [
    "#Read CSV file\n",
    "# pip install biogeme\n",
    "# pip install pandas\n",
    "# pip install numpy\n",
    "# import os\n",
    "from scipy.special import factorial\n",
    "import numpy as np"
   ]
  },
  {
   "cell_type": "markdown",
   "id": "9c23141d",
   "metadata": {},
   "source": [
    "Problem 1. Suppose there are 10 cars waiting at an intersection in a single line, and 4 of them are left turners. The vehicles are equally likely to be in any order. Use python to calculate the probability that: "
   ]
  },
  {
   "cell_type": "code",
   "execution_count": 2,
   "id": "9508e729",
   "metadata": {},
   "outputs": [
    {
     "name": "stdout",
     "output_type": "stream",
     "text": [
      "0.004761904761904762 0.07142857142857142 0.13333333333333333\n"
     ]
    }
   ],
   "source": [
    "# a. The first four vehicles are all left turners. \n",
    "# b. Non of the first four vehicles are left turners. \n",
    "# c. No non-left-turning vehicle has more than two left turners in front of it. \n",
    "\n",
    "denominator = (factorial(10)/(factorial(4)*factorial(6)))\n",
    "numerator_a = 1\n",
    "ans_a = numerator_a/denominator\n",
    "\n",
    "numerator_b = (factorial(6)/(factorial(4)*factorial(2)))\n",
    "ans_b = numerator_b/denominator\n",
    "\n",
    "from math import comb\n",
    "numerator_c = comb(8,2)\n",
    "ans_c = numerator_c/denominator\n",
    "\n",
    "print(ans_a, ans_b, ans_c)"
   ]
  },
  {
   "cell_type": "markdown",
   "id": "f506f484",
   "metadata": {},
   "source": [
    "Problem 2. Verify your calculations in (1) using a small python simulation. \\"
   ]
  },
  {
   "cell_type": "markdown",
   "id": "dc67e9a4",
   "metadata": {},
   "source": [
    "a. Create a vector of 10 random numbers. Imagine 1 stands for the first vehicle in line at the intersection, 2 stands for the 2nd vehicle, etc. "
   ]
  },
  {
   "cell_type": "code",
   "execution_count": 3,
   "id": "ecf35c3d",
   "metadata": {},
   "outputs": [],
   "source": [
    "veh = np.random.rand(10) # Uniform dist (0~1) "
   ]
  },
  {
   "cell_type": "markdown",
   "id": "25d71bb2",
   "metadata": {},
   "source": [
    "b. Use (a) to randomly choose which of the 10 vehicles are left turners. For example, the left-turners could be the vehicles whose associated random numbers are the smallest (hint: Use numpy modules: rand and sort, argsort)"
   ]
  },
  {
   "cell_type": "code",
   "execution_count": 4,
   "id": "e9ed6c7b",
   "metadata": {},
   "outputs": [
    {
     "name": "stdout",
     "output_type": "stream",
     "text": [
      "value:  [0.00265956 0.00312325 0.01390789 0.09577811 0.29471196 0.30431916\n",
      " 0.33079319 0.80066515 0.96316207 0.98155061]\n",
      "index:  [0 8 6 1 5 7 9 2 3 4]\n",
      "Left turners:  [0 1 6 8]\n"
     ]
    }
   ],
   "source": [
    "veh\n",
    "value = np.sort(veh)\n",
    "index = np.argsort(veh)\n",
    "print('value: ', value)\n",
    "print('index: ', index)\n",
    "\n",
    "leftTurners = index[0:4] # First four vehicles\n",
    "leftTurners = np.sort(leftTurners)\n",
    "print('Left turners: ', leftTurners)"
   ]
  },
  {
   "cell_type": "markdown",
   "id": "5b4709a8",
   "metadata": {},
   "source": [
    "c. For this set of left turners, determine whether each of the events identified inthe Problem 1 is correct, record the results in three binary variables, one for each of the three events. "
   ]
  },
  {
   "cell_type": "code",
   "execution_count": 5,
   "id": "3a573ac2",
   "metadata": {},
   "outputs": [
    {
     "name": "stdout",
     "output_type": "stream",
     "text": [
      "False\n"
     ]
    }
   ],
   "source": [
    "# First four vehicles are left turners\n",
    "# print(leftTurners[0] == 1, leftTurners[1] == 2, leftTurners[2] == 3, leftTurners[3] == 4)\n",
    "print(leftTurners[3] == 4)"
   ]
  },
  {
   "cell_type": "code",
   "execution_count": 6,
   "id": "ef6e0f82",
   "metadata": {},
   "outputs": [
    {
     "name": "stdout",
     "output_type": "stream",
     "text": [
      "False\n"
     ]
    }
   ],
   "source": [
    "# Non of the first four vehicles are left turners\n",
    "# print(leftTurners<=4)\n",
    "print(sum(leftTurners<=4)==0)"
   ]
  },
  {
   "cell_type": "code",
   "execution_count": 7,
   "id": "5fb84174",
   "metadata": {},
   "outputs": [
    {
     "name": "stdout",
     "output_type": "stream",
     "text": [
      "False\n"
     ]
    }
   ],
   "source": [
    "# No non-left-turning vehicle has more than two left turners in front of it. \n",
    "print((leftTurners[3] == 9) & (leftTurners[2] == 8)) # remember range of index "
   ]
  },
  {
   "cell_type": "code",
   "execution_count": 8,
   "id": "90f62993",
   "metadata": {},
   "outputs": [],
   "source": [
    "# import numpy as np \n",
    "import numpy as np \n",
    "\n",
    "def simulation(n, l, m):\n",
    "    # make 3 by 1 and 3 by m matrix\n",
    "    vProbABC = np.zeros((3,1))\n",
    "    result = np.zeros((3,m))\n",
    "    for i in range(m-1):\n",
    "        result[:,i]=testABC(locateLeftTurner(n,l), n, l)\n",
    "    vProbABC[0] = sum(result[0])/m\n",
    "    vProbABC[1] = sum(result[1])/m\n",
    "    vProbABC[2] = sum(result[2])/m\n",
    "    return(vProbABC)\n",
    "\n",
    "def testABC(leftTurners, n, l):\n",
    "    vtestResult = [(leftTurners[3] == 4), sum(leftTurners<=4)==0, ((leftTurners[3] == 9) & (leftTurners[2] == 8))] \n",
    "    return(vtestResult)\n",
    "\n",
    "# Function to locate the left turners\n",
    "def locateLeftTurner(n, l):\n",
    "    veh = np.random.rand(n) # Uniform dist (0~1) \n",
    "    value = np.sort(veh)\n",
    "    index = np.argsort(veh)\n",
    "    \n",
    "    leftTurners = index[0:l] # First l vehicles\n",
    "    leftTurners = np.sort(leftTurners)\n",
    "    return(leftTurners)"
   ]
  },
  {
   "cell_type": "markdown",
   "id": "f24bce94",
   "metadata": {},
   "source": [
    "d. Repeat the above steps 10000 times and estimate the probabilities for the three events from your results. "
   ]
  },
  {
   "cell_type": "code",
   "execution_count": 9,
   "id": "4ea7cb20",
   "metadata": {},
   "outputs": [
    {
     "data": {
      "text/plain": [
       "array([[0.0181],\n",
       "       [0.021 ],\n",
       "       [0.1349]])"
      ]
     },
     "execution_count": 9,
     "metadata": {},
     "output_type": "execute_result"
    }
   ],
   "source": [
    "Result = simulation(10, 4, 10000)\n",
    "Result"
   ]
  },
  {
   "cell_type": "markdown",
   "id": "55811d18",
   "metadata": {},
   "source": [
    "Problem 3. Show a, b, c with a generalized function: simulation.py"
   ]
  },
  {
   "cell_type": "code",
   "execution_count": null,
   "id": "10d2507c",
   "metadata": {},
   "outputs": [],
   "source": [
    "# Create simulation.py and save it to the same directory. \n",
    "from simulation import *\n",
    "Result_a = simulation(15, 6, 10000)\n",
    "Result_b = simulation(20, 8, 10000)\n",
    "Result_c = simulation(50, 20, 10000)\n",
    "\n",
    "print(Result_a)\n",
    "print(Result_b)\n",
    "print(Result_c)"
   ]
  },
  {
   "cell_type": "markdown",
   "id": "bc947d8c",
   "metadata": {},
   "source": [
    "Problem 4. Define the random variable X to be the largest number of left-turners in front of any non-left turner. They need not be directly in front, just somewhere between the non-left-turner and the front. For n=10, l=4, use direct calculation and simulation to calculate the PDF for X. "
   ]
  },
  {
   "cell_type": "code",
   "execution_count": null,
   "id": "f234e0b8",
   "metadata": {},
   "outputs": [],
   "source": [
    "# Provide your answer"
   ]
  }
 ],
 "metadata": {
  "kernelspec": {
   "display_name": "Python 3 (ipykernel)",
   "language": "python",
   "name": "python3"
  },
  "language_info": {
   "codemirror_mode": {
    "name": "ipython",
    "version": 3
   },
   "file_extension": ".py",
   "mimetype": "text/x-python",
   "name": "python",
   "nbconvert_exporter": "python",
   "pygments_lexer": "ipython3",
   "version": "3.11.3"
  }
 },
 "nbformat": 4,
 "nbformat_minor": 5
}
