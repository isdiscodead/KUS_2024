{
 "cells": [
  {
   "cell_type": "code",
   "execution_count": 1,
   "id": "6b8efb4c",
   "metadata": {},
   "outputs": [],
   "source": [
    "# Code for DCCS221 (Lab 6)\n",
    "import pandas as pd\n",
    "import matplotlib.pyplot as plt\n",
    "import numpy as np"
   ]
  },
  {
   "cell_type": "markdown",
   "id": "9c23141d",
   "metadata": {},
   "source": [
    "# Step 1. Open data set drivers.csv. "
   ]
  },
  {
   "cell_type": "code",
   "execution_count": 2,
   "id": "7132079d",
   "metadata": {},
   "outputs": [
    {
     "name": "stdout",
     "output_type": "stream",
     "text": [
      "      Drivers  HH\n",
      "0           1   1\n",
      "1           1   1\n",
      "2           1   3\n",
      "3           2   3\n",
      "4           2   3\n",
      "...       ...  ..\n",
      "4737        1   3\n",
      "4738        2   2\n",
      "4739        1   1\n",
      "4740        3   3\n",
      "4741        3   5\n",
      "\n",
      "[4742 rows x 2 columns]\n"
     ]
    }
   ],
   "source": [
    "df = pd.read_csv('drivers.csv', sep = ',', header=0)\n",
    "print(df)\n",
    "x = df.Drivers\n",
    "y = df.HH"
   ]
  },
  {
   "cell_type": "markdown",
   "id": "1b6ee779",
   "metadata": {},
   "source": [
    "# Step 2. Create a vector x20 that includes only the first 20 observations of vector x "
   ]
  },
  {
   "cell_type": "code",
   "execution_count": 3,
   "id": "c06379f1",
   "metadata": {},
   "outputs": [
    {
     "data": {
      "text/plain": [
       "0     1\n",
       "1     1\n",
       "2     1\n",
       "3     2\n",
       "4     2\n",
       "5     2\n",
       "6     2\n",
       "7     2\n",
       "8     2\n",
       "9     2\n",
       "10    2\n",
       "11    2\n",
       "12    3\n",
       "13    2\n",
       "14    2\n",
       "15    2\n",
       "16    2\n",
       "17    3\n",
       "18    1\n",
       "19    1\n",
       "Name: Drivers, dtype: int64"
      ]
     },
     "execution_count": 3,
     "metadata": {},
     "output_type": "execute_result"
    }
   ],
   "source": [
    "x20 = x[0:20]; x20"
   ]
  },
  {
   "cell_type": "markdown",
   "id": "e2c9eb04",
   "metadata": {},
   "source": [
    "# Step 3. Draw a histogram for x20"
   ]
  },
  {
   "cell_type": "code",
   "execution_count": 4,
   "id": "eedfa77e",
   "metadata": {},
   "outputs": [
    {
     "data": {
      "text/plain": [
       "(array([ 5.,  0.,  0.,  0.,  0., 13.,  0.,  0.,  0.,  2.]),\n",
       " array([1. , 1.2, 1.4, 1.6, 1.8, 2. , 2.2, 2.4, 2.6, 2.8, 3. ]),\n",
       " <BarContainer object of 10 artists>)"
      ]
     },
     "execution_count": 4,
     "metadata": {},
     "output_type": "execute_result"
    },
    {
     "data": {
      "image/png": "[encoded data removed]",
      "text/plain": [
       "<Figure size 640x480 with 1 Axes>"
      ]
     },
     "metadata": {},
     "output_type": "display_data"
    }
   ],
   "source": [
    "# a. Around what value do you expect the mean to be? And the median? \n",
    "plt.hist(x20)"
   ]
  },
  {
   "cell_type": "code",
   "execution_count": 5,
   "id": "b34e95a3",
   "metadata": {},
   "outputs": [
    {
     "name": "stdout",
     "output_type": "stream",
     "text": [
      "1.85 2.0\n"
     ]
    }
   ],
   "source": [
    "# b. Use numpy to compute mean and median \n",
    "print(np.mean(x20), np.median(x20))"
   ]
  },
  {
   "cell_type": "code",
   "execution_count": 6,
   "metadata": {},
   "outputs": [
    {
     "name": "stdout",
     "output_type": "stream",
     "text": [
      "2.15 2.0\n"
     ]
    }
   ],
   "source": [
    "# c. Change the last value of x20 to 7 (reference an observation in a vector and set it to some value)\n",
    "# i.e. x20[20]= 7 references the 20th observation of x20 and sets it to 7.\n",
    "x20[19] = 7\n",
    "print(np.mean(x20), np.median(x20))"
   ]
  },
  {
   "cell_type": "markdown",
   "id": "19520fba",
   "metadata": {},
   "source": [
    "# Step 4.\tCreate a vector x100 \n",
    " x100 should include the first 100 observations of vector x and a vector x4000 that includes the first 4000 observations of vector x.\n",
    " Repeat steps (b) and (c) for each case in the previous Step. What can you say about the effects that the number of observations might have on the calculation of the mean and the median?"
   ]
  },
  {
   "cell_type": "code",
   "execution_count": 7,
   "id": "35ab30dc",
   "metadata": {},
   "outputs": [
    {
     "name": "stdout",
     "output_type": "stream",
     "text": [
      "1.84 2.0 1.76575 2.0\n"
     ]
    }
   ],
   "source": [
    "x100 = x[0:100]; \n",
    "x4000 = x[0:4000]; \n",
    "\n",
    "mean100 = np.mean(x100)\n",
    "median100 = np.median(x100)\n",
    "mean4000 = np.mean(x4000)\n",
    "median4000 = np.median(x4000)\n",
    "\n",
    "print(mean100, median100, mean4000, median4000)"
   ]
  },
  {
   "cell_type": "markdown",
   "id": "399fa83b",
   "metadata": {},
   "source": [
    "# Step 5. We discussed dispersion qualitatively. \n",
    "The mean absolute deviation, sample standard deviation, and sample coefficient of variation (COV) are quantitative measures of dispersion. "
   ]
  },
  {
   "cell_type": "code",
   "execution_count": 8,
   "id": "793816c3",
   "metadata": {},
   "outputs": [
    {
     "name": "stdout",
     "output_type": "stream",
     "text": [
      "0.6036812026950692 0.8015153328226656 0.45054358798542915\n",
      "0.6036812026950692\n"
     ]
    }
   ],
   "source": [
    "# Calculate these for both x and y. Which measure would you want to use to compare the dispersion of the two samples?\n",
    "\n",
    "def mad(data, axis=None): \n",
    "    return np.mean(np.absolute(data - np.mean(data, axis)), axis)\n",
    "\n",
    "print(mad(x), np.std(x), np.std(x)/np.mean(x))\n",
    "print(df['Drivers'].mad()) # C:\\Users\\Public\\Documents\\ESTsoft\\CreatorTemp\\ipykernel_37120\\1667022211.py:7: FutureWarning: The 'mad' method is deprecated and will be removed in a future version. \n",
    "# %mad(x) mean/median \n",
    "# %std(x)\n",
    "# %std(x)/mean(x) %COV: Ratio of standard deviation to mean"
   ]
  },
  {
   "cell_type": "markdown",
   "id": "76722c26",
   "metadata": {},
   "source": [
    "# Step 6. Plot histograms \n",
    "A histogram for x (using 7 bins) and a histogram for y (using 10 bins) separately \\\n",
    "(you can use the figure command to create a new figure for each plot)."
   ]
  },
  {
   "cell_type": "code",
   "execution_count": 9,
   "id": "debe23be",
   "metadata": {},
   "outputs": [
    {
     "data": {
      "image/png": "[encoded data removed]",
      "text/plain": [
       "<Figure size 1000x500 with 2 Axes>"
      ]
     },
     "metadata": {},
     "output_type": "display_data"
    }
   ],
   "source": [
    "fig, (ax1, ax2) = plt.subplots(1, 2, figsize = (10, 5))\n",
    "\n",
    "ax1.hist(x, 7)\n",
    "ax2.hist(y, 10)\n",
    "\n",
    "ax1.set_xlabel('Drivers')\n",
    "ax1.set_ylabel('Frequency')\n",
    "\n",
    "ax2.set_xlabel('HH Size')\n",
    "ax2.set_ylabel('Frequency')\n",
    "\n",
    "plt.show()"
   ]
  },
  {
   "cell_type": "code",
   "execution_count": 10,
   "id": "945ccf57",
   "metadata": {},
   "outputs": [
    {
     "name": "stdout",
     "output_type": "stream",
     "text": [
      "0.31820804226355615 0.9145037973866543\n",
      "1.4519275024331515 0.9799960848799691\n"
     ]
    }
   ],
   "source": [
    "# a. Is the data skewed to the right or to the left for both x and y? why? \n",
    "\n",
    "# b. Use Python to compute the skewness and kurtosis\n",
    "from scipy.stats import skew \n",
    "from scipy.stats import kurtosis \n",
    "\n",
    "print(skew(x), skew(y))\n",
    "print(kurtosis(x), kurtosis(y))"
   ]
  },
  {
   "cell_type": "code",
   "execution_count": 11,
   "id": "47ebb235",
   "metadata": {},
   "outputs": [],
   "source": [
    "# c. Provide your explanation on skewness and kurtosis \n",
    "\n",
    "# skewness -> x, y 모두 양수 값을 가지므로 오른쪽으로 치우침\n",
    "# kurtosis -> 모두 0보다 크므로 정규 분포보다 꼬리가 두꺼운 뾰족한 분포를 가짐 "
   ]
  },
  {
   "cell_type": "code",
   "execution_count": 12,
   "id": "2b41da6f",
   "metadata": {},
   "outputs": [
    {
     "name": "stdout",
     "output_type": "stream",
     "text": [
      "Covariance: 0.575454071293688 Correlation: 0.5300439495597523\n"
     ]
    }
   ],
   "source": [
    "# d. Use Python to compute the covariance and the correlation coefficient. \n",
    "print('Covariance:', np.cov(x, y)[0,1], 'Correlation:', np.corrcoef(x, y)[0,1])"
   ]
  }
 ],
 "metadata": {
  "kernelspec": {
   "display_name": "deep",
   "language": "python",
   "name": "deep"
  },
  "language_info": {
   "codemirror_mode": {
    "name": "ipython",
    "version": 3
   },
   "file_extension": ".py",
   "mimetype": "text/x-python",
   "name": "python",
   "nbconvert_exporter": "python",
   "pygments_lexer": "ipython3",
   "version": "3.7.16"
  }
 },
 "nbformat": 4,
 "nbformat_minor": 5
}
