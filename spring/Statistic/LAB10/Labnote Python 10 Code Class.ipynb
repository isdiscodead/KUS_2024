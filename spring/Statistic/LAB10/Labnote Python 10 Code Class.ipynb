{
 "cells": [
  {
   "cell_type": "code",
   "execution_count": 4,
   "id": "6b8efb4c",
   "metadata": {},
   "outputs": [],
   "source": [
    "import pandas as pd\n",
    "import numpy as np\n",
    "from scipy import stats"
   ]
  },
  {
   "cell_type": "markdown",
   "id": "9c23141d",
   "metadata": {},
   "source": [
    "# Part 1. Data Preparation"
   ]
  },
  {
   "cell_type": "code",
   "execution_count": 5,
   "id": "7132079d",
   "metadata": {},
   "outputs": [
    {
     "data": {
      "text/html": [
       "<div>\n",
       "<style scoped>\n",
       "    .dataframe tbody tr th:only-of-type {\n",
       "        vertical-align: middle;\n",
       "    }\n",
       "\n",
       "    .dataframe tbody tr th {\n",
       "        vertical-align: top;\n",
       "    }\n",
       "\n",
       "    .dataframe thead th {\n",
       "        text-align: right;\n",
       "    }\n",
       "</style>\n",
       "<table border=\"1\" class=\"dataframe\">\n",
       "  <thead>\n",
       "    <tr style=\"text-align: right;\">\n",
       "      <th></th>\n",
       "      <th>tt_min</th>\n",
       "    </tr>\n",
       "  </thead>\n",
       "  <tbody>\n",
       "    <tr>\n",
       "      <th>0</th>\n",
       "      <td>7</td>\n",
       "    </tr>\n",
       "    <tr>\n",
       "      <th>1</th>\n",
       "      <td>12</td>\n",
       "    </tr>\n",
       "    <tr>\n",
       "      <th>2</th>\n",
       "      <td>13</td>\n",
       "    </tr>\n",
       "    <tr>\n",
       "      <th>3</th>\n",
       "      <td>13</td>\n",
       "    </tr>\n",
       "    <tr>\n",
       "      <th>4</th>\n",
       "      <td>13</td>\n",
       "    </tr>\n",
       "  </tbody>\n",
       "</table>\n",
       "</div>"
      ],
      "text/plain": [
       "   tt_min\n",
       "0       7\n",
       "1      12\n",
       "2      13\n",
       "3      13\n",
       "4      13"
      ]
     },
     "execution_count": 5,
     "metadata": {},
     "output_type": "execute_result"
    }
   ],
   "source": [
    "# a) Import tt_ug.csv and tt_g.csv into Python. \n",
    "tt_ug = pd.read_csv('tt_ug.csv')\n",
    "tt_g = pd.read_csv('tt_g.csv')\n",
    "tt_ug.head()"
   ]
  },
  {
   "cell_type": "code",
   "execution_count": 6,
   "id": "a49e7576",
   "metadata": {},
   "outputs": [
    {
     "name": "stdout",
     "output_type": "stream",
     "text": [
      "49 35\n"
     ]
    }
   ],
   "source": [
    "# b) Find how many observations are in each sample. \n",
    "m=np.size(tt_ug['tt_min'])\n",
    "n=np.size(tt_g['tt_min'])\n",
    "print(m, n)"
   ]
  },
  {
   "cell_type": "code",
   "execution_count": 7,
   "id": "8b33c07d",
   "metadata": {},
   "outputs": [
    {
     "name": "stdout",
     "output_type": "stream",
     "text": [
      "17.755102040816325 27.285714285714285\n"
     ]
    }
   ],
   "source": [
    "# c) Find the mean of each sample. \n",
    "ug_bar = np.mean(tt_ug['tt_min'])\n",
    "g_bar = np.mean(tt_g['tt_min'])\n",
    "print(ug_bar, g_bar)"
   ]
  },
  {
   "cell_type": "code",
   "execution_count": 8,
   "id": "a15bad9c",
   "metadata": {},
   "outputs": [
    {
     "name": "stdout",
     "output_type": "stream",
     "text": [
      "183.68877551020418 154.7983193277311\n"
     ]
    }
   ],
   "source": [
    "# d) Find the variance of each sample. \n",
    "S2_ug = np.var(tt_ug['tt_min'], ddof=1)\n",
    "S2_g = np.var(tt_g['tt_min'], ddof=1)\n",
    "print(S2_ug, S2_g)"
   ]
  },
  {
   "cell_type": "code",
   "execution_count": 9,
   "id": "41e9a59f",
   "metadata": {},
   "outputs": [
    {
     "name": "stdout",
     "output_type": "stream",
     "text": [
      "171.709805873569\n"
     ]
    }
   ],
   "source": [
    "# e) Find the pooled variance. \n",
    "# Complete the code below\n",
    "S2P = ((m-1)*S2_ug + (n-1)*S2_g) / (m + n - 2)\n",
    "print(S2P)"
   ]
  },
  {
   "cell_type": "markdown",
   "id": "1ede4223",
   "metadata": {},
   "source": [
    "# Part 2. Testing equality of means, undergraduate versus graduate students"
   ]
  },
  {
   "cell_type": "code",
   "execution_count": 10,
   "id": "f88e6144",
   "metadata": {},
   "outputs": [
    {
     "name": "stdout",
     "output_type": "stream",
     "text": [
      "-3.2863640495969206 1.9893185569368186 0.0014949936513590778\n"
     ]
    },
    {
     "data": {
      "text/plain": [
       "'reject'"
      ]
     },
     "metadata": {},
     "output_type": "display_data"
    }
   ],
   "source": [
    "# a) The hypothesis that the average travel times of undergraduate and graduate students are different at the 5% significance level. What is the p-value? \n",
    "\n",
    "TS = (ug_bar-g_bar)/(np.sqrt(S2P)*np.sqrt(1/m+1/n))\n",
    "t_critical = stats.t.ppf(0.975, m+n-2)\n",
    "P_val = (1-stats.t.cdf(abs(TS), m+n-2))*2\n",
    "\n",
    "print(TS, t_critical, P_val)\n",
    "\n",
    "if abs(TS)>t_critical:\n",
    "    display('reject')\n",
    "else:\n",
    "    display('accept')\n"
   ]
  },
  {
   "cell_type": "code",
   "execution_count": 13,
   "id": "69f80be9",
   "metadata": {},
   "outputs": [
    {
     "name": "stdout",
     "output_type": "stream",
     "text": [
      "-3.2863640495969206 1.6636491839760918 0.9992525031743205\n"
     ]
    },
    {
     "data": {
      "text/plain": [
       "'reject'"
      ]
     },
     "metadata": {},
     "output_type": "display_data"
    }
   ],
   "source": [
    "# b) The hypothesis that the average travel times of graduate students are longer at 5% significance level. \n",
    "# Complete the code below\n",
    "TS = (ug_bar-g_bar)/(np.sqrt(S2P)*np.sqrt(1/m+1/n))\n",
    "t_critical = stats.t.ppf(1 - 0.05, m + n - 2)\n",
    "P_val = 1 - stats.t.cdf(TS, m + n - 2)\n",
    "\n",
    "print(TS, t_critical, P_val)\n",
    "\n",
    "if abs(TS)>t_critical:\n",
    "    display('reject')\n",
    "else:\n",
    "    display('accept')"
   ]
  },
  {
   "cell_type": "markdown",
   "id": "3fe6ec47",
   "metadata": {},
   "source": [
    "# Part 3. Testing equality of variances"
   ]
  },
  {
   "cell_type": "code",
   "execution_count": 14,
   "id": "4df52426",
   "metadata": {},
   "outputs": [
    {
     "name": "stdout",
     "output_type": "stream",
     "text": [
      "1.1866328801755766 0.5415204753690431 1.910961385173062\n"
     ]
    },
    {
     "data": {
      "text/plain": [
       "'accept'"
      ]
     },
     "metadata": {},
     "output_type": "display_data"
    }
   ],
   "source": [
    "# Complete the code below\n",
    "FS = S2_ug / S2_g\n",
    "F_lower = stats.f.ppf(0.025, m-1, n-1)\n",
    "F_upper = stats.f.ppf(0.975, m-1, n-1)\n",
    "\n",
    "print(FS, F_lower, F_upper)\n",
    "if ((FS>F_lower) & (FS<F_upper)):display('accept')\n",
    "else: display('reject')"
   ]
  }
 ],
 "metadata": {
  "kernelspec": {
   "display_name": "deep",
   "language": "python",
   "name": "deep"
  },
  "language_info": {
   "codemirror_mode": {
    "name": "ipython",
    "version": 3
   },
   "file_extension": ".py",
   "mimetype": "text/x-python",
   "name": "python",
   "nbconvert_exporter": "python",
   "pygments_lexer": "ipython3",
   "version": "3.7.16"
  }
 },
 "nbformat": 4,
 "nbformat_minor": 5
}
